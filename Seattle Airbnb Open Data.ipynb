{
 "cells": [
  {
   "cell_type": "markdown",
   "metadata": {},
   "source": [
    "### 匯入函式庫"
   ]
  },
  {
   "cell_type": "code",
   "execution_count": 6,
   "metadata": {
    "tags": []
   },
   "outputs": [],
   "source": [
    "import pandas as pd\n",
    "import numpy as np\n",
    "import matplotlib.pyplot as plt\n",
    "import seaborn as sns\n",
    "%matplotlib inline\n",
    "import warnings  \n",
    "warnings.filterwarnings(\"ignore\")  "
   ]
  },
  {
   "cell_type": "markdown",
   "metadata": {},
   "source": [
    "### 確認資料"
   ]
  },
  {
   "cell_type": "code",
   "execution_count": 7,
   "metadata": {},
   "outputs": [
    {
     "name": "stdout",
     "output_type": "stream",
     "text": [
      "資料尺度: (3069763, 7)\n"
     ]
    },
    {
     "data": {
      "text/html": [
       "<div>\n",
       "<style scoped>\n",
       "    .dataframe tbody tr th:only-of-type {\n",
       "        vertical-align: middle;\n",
       "    }\n",
       "\n",
       "    .dataframe tbody tr th {\n",
       "        vertical-align: top;\n",
       "    }\n",
       "\n",
       "    .dataframe thead th {\n",
       "        text-align: right;\n",
       "    }\n",
       "</style>\n",
       "<table border=\"1\" class=\"dataframe\">\n",
       "  <thead>\n",
       "    <tr style=\"text-align: right;\">\n",
       "      <th></th>\n",
       "      <th>listing_id</th>\n",
       "      <th>date</th>\n",
       "      <th>available</th>\n",
       "      <th>price</th>\n",
       "      <th>adjusted_price</th>\n",
       "      <th>minimum_nights</th>\n",
       "      <th>maximum_nights</th>\n",
       "    </tr>\n",
       "  </thead>\n",
       "  <tbody>\n",
       "    <tr>\n",
       "      <th>0</th>\n",
       "      <td>68396</td>\n",
       "      <td>2020-06-01</td>\n",
       "      <td>f</td>\n",
       "      <td>$1,498.00</td>\n",
       "      <td>$1,498.00</td>\n",
       "      <td>7.0</td>\n",
       "      <td>365.0</td>\n",
       "    </tr>\n",
       "  </tbody>\n",
       "</table>\n",
       "</div>"
      ],
      "text/plain": [
       "   listing_id        date available      price adjusted_price  minimum_nights  \\\n",
       "0       68396  2020-06-01         f  $1,498.00      $1,498.00             7.0   \n",
       "\n",
       "   maximum_nights  \n",
       "0           365.0  "
      ]
     },
     "execution_count": 7,
     "metadata": {},
     "output_type": "execute_result"
    }
   ],
   "source": [
    "calendar = pd.read_csv('.\\data\\Seattle Airbnb Open Data\\calendar.csv')\n",
    "print(\"資料尺度: \" + str(calendar.shape))\n",
    "calendar.head(10)"
   ]
  },
  {
   "cell_type": "code",
   "execution_count": 8,
   "metadata": {},
   "outputs": [
    {
     "name": "stdout",
     "output_type": "stream",
     "text": [
      "<class 'pandas.core.frame.DataFrame'>\n",
      "RangeIndex: 3069763 entries, 0 to 3069762\n",
      "Data columns (total 7 columns):\n",
      " #   Column          Dtype  \n",
      "---  ------          -----  \n",
      " 0   listing_id      int64  \n",
      " 1   date            object \n",
      " 2   available       object \n",
      " 3   price           object \n",
      " 4   adjusted_price  object \n",
      " 5   minimum_nights  float64\n",
      " 6   maximum_nights  float64\n",
      "dtypes: float64(2), int64(1), object(4)\n",
      "memory usage: 163.9+ MB\n"
     ]
    }
   ],
   "source": [
    "calendar.info()"
   ]
  },
  {
   "cell_type": "markdown",
   "metadata": {},
   "source": [
    "#### 檢查最早到最後的時間\n",
    "- 確認資料為一年的時間"
   ]
  },
  {
   "cell_type": "code",
   "execution_count": 9,
   "metadata": {},
   "outputs": [
    {
     "data": {
      "text/plain": [
       "('2020-05-31', '2021-06-02')"
      ]
     },
     "execution_count": 9,
     "metadata": {},
     "output_type": "execute_result"
    }
   ],
   "source": [
    "calendar.date.min(), calendar.date.max()"
   ]
  },
  {
   "cell_type": "markdown",
   "metadata": {},
   "source": [
    "#### 檢查缺失值"
   ]
  },
  {
   "cell_type": "code",
   "execution_count": 10,
   "metadata": {},
   "outputs": [
    {
     "data": {
      "text/plain": [
       "listing_id          0\n",
       "date                0\n",
       "available           0\n",
       "price               0\n",
       "adjusted_price      0\n",
       "minimum_nights    453\n",
       "maximum_nights    453\n",
       "dtype: int64"
      ]
     },
     "execution_count": 10,
     "metadata": {},
     "output_type": "execute_result"
    }
   ],
   "source": [
    "calendar.isnull().sum()"
   ]
  },
  {
   "cell_type": "markdown",
   "metadata": {},
   "source": [
    "#### 因為數據量夠大, 因此直接drop掉"
   ]
  },
  {
   "cell_type": "code",
   "execution_count": 11,
   "metadata": {
    "tags": []
   },
   "outputs": [],
   "source": [
    "calendar = calendar.dropna()"
   ]
  },
  {
   "cell_type": "code",
   "execution_count": 12,
   "metadata": {},
   "outputs": [
    {
     "data": {
      "text/plain": [
       "(3069310, 7)"
      ]
     },
     "execution_count": 12,
     "metadata": {},
     "output_type": "execute_result"
    }
   ],
   "source": [
    "calendar.shape"
   ]
  },
  {
   "cell_type": "markdown",
   "metadata": {},
   "source": [
    "#### 將 date 這種時間格式進行轉換\n",
    "- 可以發現 date 變成 datetime 格式"
   ]
  },
  {
   "cell_type": "code",
   "execution_count": 13,
   "metadata": {
    "tags": []
   },
   "outputs": [
    {
     "name": "stdout",
     "output_type": "stream",
     "text": [
      "<class 'pandas.core.frame.DataFrame'>\n",
      "Int64Index: 3069310 entries, 0 to 3069762\n",
      "Data columns (total 7 columns):\n",
      " #   Column          Dtype         \n",
      "---  ------          -----         \n",
      " 0   listing_id      int64         \n",
      " 1   date            datetime64[ns]\n",
      " 2   available       object        \n",
      " 3   price           object        \n",
      " 4   adjusted_price  object        \n",
      " 5   minimum_nights  float64       \n",
      " 6   maximum_nights  float64       \n",
      "dtypes: datetime64[ns](1), float64(2), int64(1), object(3)\n",
      "memory usage: 187.3+ MB\n"
     ]
    }
   ],
   "source": [
    "calendar['date'] = pd.to_datetime(calendar['date'])\n",
    "\n",
    "calendar.info()"
   ]
  },
  {
   "cell_type": "markdown",
   "metadata": {},
   "source": [
    "#### 處理 price 價格特徵 object\n",
    "- 解決他有字串又有數字的 object 類型\n",
    "- astype做型態轉換"
   ]
  },
  {
   "cell_type": "code",
   "execution_count": 14,
   "metadata": {},
   "outputs": [
    {
     "name": "stdout",
     "output_type": "stream",
     "text": [
      "<class 'pandas.core.frame.DataFrame'>\n",
      "Int64Index: 3069310 entries, 0 to 3069762\n",
      "Data columns (total 7 columns):\n",
      " #   Column          Dtype         \n",
      "---  ------          -----         \n",
      " 0   listing_id      int64         \n",
      " 1   date            datetime64[ns]\n",
      " 2   available       object        \n",
      " 3   price           float64       \n",
      " 4   adjusted_price  object        \n",
      " 5   minimum_nights  float64       \n",
      " 6   maximum_nights  float64       \n",
      "dtypes: datetime64[ns](1), float64(3), int64(1), object(2)\n",
      "memory usage: 187.3+ MB\n"
     ]
    }
   ],
   "source": [
    "calendar['price'] = calendar['price'].str.replace('$','') # 移除錢字號\n",
    "calendar['price'] = calendar['price'].str.replace(',','') # 移除逗號\n",
    "\n",
    "# astype做型態轉換\n",
    "calendar['price'] = calendar['price'].astype(float)\n",
    "calendar.info()"
   ]
  },
  {
   "cell_type": "markdown",
   "metadata": {},
   "source": [
    "#### 提取時間中我需要的指標\n",
    "- 利用 groupby 取得群體\n",
    "- 利用 .dt.strftime('%B') 得到月份群體\n",
    "- 發現 四五六月是旺季"
   ]
  },
  {
   "cell_type": "code",
   "execution_count": 15,
   "metadata": {},
   "outputs": [
    {
     "data": {
      "text/plain": [
       "<AxesSubplot:ylabel='date'>"
      ]
     },
     "execution_count": 15,
     "metadata": {},
     "output_type": "execute_result"
    },
    {
     "data": {
      "image/png": "[encoded data removed]",
      "text/plain": [
       "<Figure size 864x576 with 1 Axes>"
      ]
     },
     "metadata": {
      "needs_background": "light"
     },
     "output_type": "display_data"
    }
   ],
   "source": [
    "mean_of_mouth = calendar.groupby(calendar['date'].dt.strftime('%B'))['price'].mean()\n",
    "\n",
    "# 圖示化各月份的價格平均\n",
    "mean_of_mouth.sort_values(ascending=True,inplace=True)\n",
    "mean_of_mouth.plot(kind='barh',figsize=(12,8))"
   ]
  },
  {
   "attachments": {
    "image.png": {
     "image/png": "[encoded data removed]"
    }
   },
   "cell_type": "markdown",
   "metadata": {
    "tags": []
   },
   "source": [
    "![image.png](attachment:image.png)"
   ]
  },
  {
   "cell_type": "markdown",
   "metadata": {},
   "source": [
    "#### 新增一個特徵為 (星期 dayofweek)\n",
    "- 使用 .dt.day_name() 可以從 date資料取得星期資料\n",
    "- 發現 星期五六 價格最高"
   ]
  },
  {
   "cell_type": "code",
   "execution_count": 16,
   "metadata": {},
   "outputs": [
    {
     "data": {
      "text/plain": [
       "<AxesSubplot:xlabel='dayofweek'>"
      ]
     },
     "execution_count": 16,
     "metadata": {},
     "output_type": "execute_result"
    },
    {
     "data": {
      "image/png": "[encoded data removed]",
      "text/plain": [
       "<Figure size 432x288 with 1 Axes>"
      ]
     },
     "metadata": {
      "needs_background": "light"
     },
     "output_type": "display_data"
    }
   ],
   "source": [
    "# 新增一個特徵\n",
    "calendar['dayofweek'] = calendar.date.dt.day_name()\n",
    "\n",
    "# 建立星期 index\n",
    "cats = ['Monday','Tuesday','Wednesday','Thursday','Friday','Saturday','Sunday']\n",
    "\n",
    "# 取得每天平均的各特徵資料\n",
    "calendar.groupby(['dayofweek']).mean()\n",
    "\n",
    "# 將日期index重新排列, 建立一個群組\n",
    "price_week = calendar.groupby(['dayofweek']).mean().reindex(cats)\n",
    "\n",
    "# 沒有必要的特徵 就拿掉\n",
    "price_week.drop('listing_id',axis=1, inplace = True)\n",
    "price_week.drop('minimum_nights',axis=1, inplace = True)\n",
    "price_week.drop('maximum_nights',axis=1, inplace = True)\n",
    "\n",
    "# 劃出當前結果\n",
    "price_week.plot()"
   ]
  },
  {
   "cell_type": "markdown",
   "metadata": {},
   "source": [
    "### 房間資訊\n",
    "- listing 只包含房間的資訊"
   ]
  },
  {
   "cell_type": "code",
   "execution_count": 17,
   "metadata": {},
   "outputs": [
    {
     "name": "stdout",
     "output_type": "stream",
     "text": [
      "listings 資料尺度: (8409, 106)\n"
     ]
    },
    {
     "data": {
      "text/html": [
       "<div>\n",
       "<style scoped>\n",
       "    .dataframe tbody tr th:only-of-type {\n",
       "        vertical-align: middle;\n",
       "    }\n",
       "\n",
       "    .dataframe tbody tr th {\n",
       "        vertical-align: top;\n",
       "    }\n",
       "\n",
       "    .dataframe thead th {\n",
       "        text-align: right;\n",
       "    }\n",
       "</style>\n",
       "<table border=\"1\" class=\"dataframe\">\n",
       "  <thead>\n",
       "    <tr style=\"text-align: right;\">\n",
       "      <th></th>\n",
       "      <th>id</th>\n",
       "      <th>listing_url</th>\n",
       "      <th>scrape_id</th>\n",
       "      <th>last_scraped</th>\n",
       "      <th>name</th>\n",
       "      <th>summary</th>\n",
       "      <th>space</th>\n",
       "      <th>description</th>\n",
       "      <th>experiences_offered</th>\n",
       "      <th>neighborhood_overview</th>\n",
       "      <th>...</th>\n",
       "      <th>instant_bookable</th>\n",
       "      <th>is_business_travel_ready</th>\n",
       "      <th>cancellation_policy</th>\n",
       "      <th>require_guest_profile_picture</th>\n",
       "      <th>require_guest_phone_verification</th>\n",
       "      <th>calculated_host_listings_count</th>\n",
       "      <th>calculated_host_listings_count_entire_homes</th>\n",
       "      <th>calculated_host_listings_count_private_rooms</th>\n",
       "      <th>calculated_host_listings_count_shared_rooms</th>\n",
       "      <th>reviews_per_month</th>\n",
       "    </tr>\n",
       "  </thead>\n",
       "  <tbody>\n",
       "    <tr>\n",
       "      <th>0</th>\n",
       "      <td>68396</td>\n",
       "      <td>https://www.airbnb.com/rooms/68396</td>\n",
       "      <td>20200531163330</td>\n",
       "      <td>2020-06-01</td>\n",
       "      <td>Zhongxiao Dunhua Studio C near MRT</td>\n",
       "      <td>Prime location! Right in the center of Taipei'...</td>\n",
       "      <td>Located at Zhongxiao East Road of Daan distric...</td>\n",
       "      <td>Prime location! Right in the center of Taipei'...</td>\n",
       "      <td>none</td>\n",
       "      <td>NaN</td>\n",
       "      <td>...</td>\n",
       "      <td>f</td>\n",
       "      <td>f</td>\n",
       "      <td>strict_14_with_grace_period</td>\n",
       "      <td>f</td>\n",
       "      <td>f</td>\n",
       "      <td>12</td>\n",
       "      <td>12</td>\n",
       "      <td>0</td>\n",
       "      <td>0</td>\n",
       "      <td>0.02</td>\n",
       "    </tr>\n",
       "  </tbody>\n",
       "</table>\n",
       "<p>1 rows × 106 columns</p>\n",
       "</div>"
      ],
      "text/plain": [
       "      id                         listing_url       scrape_id last_scraped  \\\n",
       "0  68396  https://www.airbnb.com/rooms/68396  20200531163330   2020-06-01   \n",
       "\n",
       "                                 name  \\\n",
       "0  Zhongxiao Dunhua Studio C near MRT   \n",
       "\n",
       "                                             summary  \\\n",
       "0  Prime location! Right in the center of Taipei'...   \n",
       "\n",
       "                                               space  \\\n",
       "0  Located at Zhongxiao East Road of Daan distric...   \n",
       "\n",
       "                                         description experiences_offered  \\\n",
       "0  Prime location! Right in the center of Taipei'...                none   \n",
       "\n",
       "  neighborhood_overview  ... instant_bookable is_business_travel_ready  \\\n",
       "0                   NaN  ...                f                        f   \n",
       "\n",
       "           cancellation_policy require_guest_profile_picture  \\\n",
       "0  strict_14_with_grace_period                             f   \n",
       "\n",
       "  require_guest_phone_verification  calculated_host_listings_count  \\\n",
       "0                                f                              12   \n",
       "\n",
       "   calculated_host_listings_count_entire_homes  \\\n",
       "0                                           12   \n",
       "\n",
       "  calculated_host_listings_count_private_rooms  \\\n",
       "0                                            0   \n",
       "\n",
       "   calculated_host_listings_count_shared_rooms  reviews_per_month  \n",
       "0                                            0               0.02  \n",
       "\n",
       "[1 rows x 106 columns]"
      ]
     },
     "execution_count": 17,
     "metadata": {},
     "output_type": "execute_result"
    }
   ],
   "source": [
    "listings = pd.read_csv('.\\data\\\\airbnb\\listings.csv')\n",
    "print(\"listings 資料尺度: \" + str(listings.shape))\n",
    "listings.head(1)"
   ]
  },
  {
   "cell_type": "markdown",
   "metadata": {},
   "source": [
    "#### 觀察一下評分\n",
    "- 看得出來大部分的人都給好評 台北的房子不錯"
   ]
  },
  {
   "cell_type": "code",
   "execution_count": 18,
   "metadata": {},
   "outputs": [
    {
     "data": {
      "image/png": "[encoded data removed]",
      "text/plain": [
       "<Figure size 864x432 with 1 Axes>"
      ]
     },
     "metadata": {
      "needs_background": "light"
     },
     "output_type": "display_data"
    },
    {
     "data": {
      "text/plain": [
       "count    6515.000000\n",
       "mean       92.563315\n",
       "std         8.701235\n",
       "min        20.000000\n",
       "25%        90.000000\n",
       "50%        95.000000\n",
       "75%        98.000000\n",
       "max       100.000000\n",
       "Name: review_scores_rating, dtype: float64"
      ]
     },
     "execution_count": 18,
     "metadata": {},
     "output_type": "execute_result"
    }
   ],
   "source": [
    "plt.figure(figsize=(12,6))\n",
    "sns.distplot(listings.review_scores_rating.dropna())\n",
    "sns.despine()\n",
    "plt.show()\n",
    "\n",
    "# 看一下評分的描述\n",
    "listings.review_scores_rating.describe()"
   ]
  },
  {
   "cell_type": "markdown",
   "metadata": {},
   "source": [
    "#### 觀察一下房價\n",
    "- 平均兩千五台幣"
   ]
  },
  {
   "cell_type": "code",
   "execution_count": 19,
   "metadata": {},
   "outputs": [
    {
     "data": {
      "text/plain": [
       "count      8409.000000\n",
       "mean       2542.481389\n",
       "std        9712.377448\n",
       "min           0.000000\n",
       "25%         988.000000\n",
       "50%        1496.000000\n",
       "75%        2484.000000\n",
       "max      300255.000000\n",
       "Name: price, dtype: float64"
      ]
     },
     "execution_count": 19,
     "metadata": {},
     "output_type": "execute_result"
    }
   ],
   "source": [
    "listings['price'] = listings['price'].str.replace('$','')\n",
    "listings['price'] = listings['price'].str.replace(',','')\n",
    "listings['price'] = listings['price'].astype(float)\n",
    "listings['price'].describe()"
   ]
  },
  {
   "cell_type": "markdown",
   "metadata": {},
   "source": [
    "#### 根據房價進行排序\n",
    "- 可以看到最貴的房間樣式"
   ]
  },
  {
   "cell_type": "code",
   "execution_count": 20,
   "metadata": {},
   "outputs": [
    {
     "data": {
      "text/html": [
       "<div>\n",
       "<style scoped>\n",
       "    .dataframe tbody tr th:only-of-type {\n",
       "        vertical-align: middle;\n",
       "    }\n",
       "\n",
       "    .dataframe tbody tr th {\n",
       "        vertical-align: top;\n",
       "    }\n",
       "\n",
       "    .dataframe thead th {\n",
       "        text-align: right;\n",
       "    }\n",
       "</style>\n",
       "<table border=\"1\" class=\"dataframe\">\n",
       "  <thead>\n",
       "    <tr style=\"text-align: right;\">\n",
       "      <th></th>\n",
       "      <th>id</th>\n",
       "      <th>listing_url</th>\n",
       "      <th>scrape_id</th>\n",
       "      <th>last_scraped</th>\n",
       "      <th>name</th>\n",
       "      <th>summary</th>\n",
       "      <th>space</th>\n",
       "      <th>description</th>\n",
       "      <th>experiences_offered</th>\n",
       "      <th>neighborhood_overview</th>\n",
       "      <th>...</th>\n",
       "      <th>instant_bookable</th>\n",
       "      <th>is_business_travel_ready</th>\n",
       "      <th>cancellation_policy</th>\n",
       "      <th>require_guest_profile_picture</th>\n",
       "      <th>require_guest_phone_verification</th>\n",
       "      <th>calculated_host_listings_count</th>\n",
       "      <th>calculated_host_listings_count_entire_homes</th>\n",
       "      <th>calculated_host_listings_count_private_rooms</th>\n",
       "      <th>calculated_host_listings_count_shared_rooms</th>\n",
       "      <th>reviews_per_month</th>\n",
       "    </tr>\n",
       "  </thead>\n",
       "  <tbody>\n",
       "    <tr>\n",
       "      <th>902</th>\n",
       "      <td>8525791</td>\n",
       "      <td>https://www.airbnb.com/rooms/8525791</td>\n",
       "      <td>20200531163330</td>\n",
       "      <td>2020-06-02</td>\n",
       "      <td>NaN</td>\n",
       "      <td>交通便宜</td>\n",
       "      <td>NaN</td>\n",
       "      <td>交通便宜</td>\n",
       "      <td>none</td>\n",
       "      <td>NaN</td>\n",
       "      <td>...</td>\n",
       "      <td>f</td>\n",
       "      <td>f</td>\n",
       "      <td>flexible</td>\n",
       "      <td>f</td>\n",
       "      <td>f</td>\n",
       "      <td>1</td>\n",
       "      <td>0</td>\n",
       "      <td>1</td>\n",
       "      <td>0</td>\n",
       "      <td>NaN</td>\n",
       "    </tr>\n",
       "    <tr>\n",
       "      <th>3282</th>\n",
       "      <td>21711457</td>\n",
       "      <td>https://www.airbnb.com/rooms/21711457</td>\n",
       "      <td>20200531163330</td>\n",
       "      <td>2020-05-31</td>\n",
       "      <td>Habitat of Wanderers</td>\n",
       "      <td>Hi</td>\n",
       "      <td>NaN</td>\n",
       "      <td>Hi</td>\n",
       "      <td>none</td>\n",
       "      <td>NaN</td>\n",
       "      <td>...</td>\n",
       "      <td>t</td>\n",
       "      <td>f</td>\n",
       "      <td>flexible</td>\n",
       "      <td>f</td>\n",
       "      <td>f</td>\n",
       "      <td>1</td>\n",
       "      <td>0</td>\n",
       "      <td>0</td>\n",
       "      <td>1</td>\n",
       "      <td>0.03</td>\n",
       "    </tr>\n",
       "    <tr>\n",
       "      <th>305</th>\n",
       "      <td>3783777</td>\n",
       "      <td>https://www.airbnb.com/rooms/3783777</td>\n",
       "      <td>20200531163330</td>\n",
       "      <td>2020-06-02</td>\n",
       "      <td>Room in Beitou</td>\n",
       "      <td>It's my house. Old style taiwanese room in old...</td>\n",
       "      <td>NaN</td>\n",
       "      <td>It's my house. Old style taiwanese room in old...</td>\n",
       "      <td>none</td>\n",
       "      <td>NaN</td>\n",
       "      <td>...</td>\n",
       "      <td>f</td>\n",
       "      <td>f</td>\n",
       "      <td>strict_14_with_grace_period</td>\n",
       "      <td>f</td>\n",
       "      <td>f</td>\n",
       "      <td>13</td>\n",
       "      <td>0</td>\n",
       "      <td>6</td>\n",
       "      <td>7</td>\n",
       "      <td>0.08</td>\n",
       "    </tr>\n",
       "  </tbody>\n",
       "</table>\n",
       "<p>3 rows × 106 columns</p>\n",
       "</div>"
      ],
      "text/plain": [
       "            id                            listing_url       scrape_id  \\\n",
       "902    8525791   https://www.airbnb.com/rooms/8525791  20200531163330   \n",
       "3282  21711457  https://www.airbnb.com/rooms/21711457  20200531163330   \n",
       "305    3783777   https://www.airbnb.com/rooms/3783777  20200531163330   \n",
       "\n",
       "     last_scraped                  name  \\\n",
       "902    2020-06-02                   NaN   \n",
       "3282   2020-05-31  Habitat of Wanderers   \n",
       "305    2020-06-02        Room in Beitou   \n",
       "\n",
       "                                                summary space  \\\n",
       "902                                                交通便宜   NaN   \n",
       "3282                                                 Hi   NaN   \n",
       "305   It's my house. Old style taiwanese room in old...   NaN   \n",
       "\n",
       "                                            description experiences_offered  \\\n",
       "902                                                交通便宜                none   \n",
       "3282                                                 Hi                none   \n",
       "305   It's my house. Old style taiwanese room in old...                none   \n",
       "\n",
       "     neighborhood_overview  ... instant_bookable is_business_travel_ready  \\\n",
       "902                    NaN  ...                f                        f   \n",
       "3282                   NaN  ...                t                        f   \n",
       "305                    NaN  ...                f                        f   \n",
       "\n",
       "              cancellation_policy require_guest_profile_picture  \\\n",
       "902                      flexible                             f   \n",
       "3282                     flexible                             f   \n",
       "305   strict_14_with_grace_period                             f   \n",
       "\n",
       "     require_guest_phone_verification  calculated_host_listings_count  \\\n",
       "902                                 f                               1   \n",
       "3282                                f                               1   \n",
       "305                                 f                              13   \n",
       "\n",
       "      calculated_host_listings_count_entire_homes  \\\n",
       "902                                             0   \n",
       "3282                                            0   \n",
       "305                                             0   \n",
       "\n",
       "     calculated_host_listings_count_private_rooms  \\\n",
       "902                                             1   \n",
       "3282                                            0   \n",
       "305                                             6   \n",
       "\n",
       "      calculated_host_listings_count_shared_rooms  reviews_per_month  \n",
       "902                                             0                NaN  \n",
       "3282                                            1               0.03  \n",
       "305                                             7               0.08  \n",
       "\n",
       "[3 rows x 106 columns]"
      ]
     },
     "execution_count": 20,
     "metadata": {},
     "output_type": "execute_result"
    }
   ],
   "source": [
    "high_price = listings.sort_values('price',ascending=False)\n",
    "high_price.head(3)"
   ]
  },
  {
   "cell_type": "code",
   "execution_count": 21,
   "metadata": {},
   "outputs": [
    {
     "data": {
      "text/plain": [
       "<AxesSubplot:>"
      ]
     },
     "execution_count": 21,
     "metadata": {},
     "output_type": "execute_result"
    },
    {
     "data": {
      "image/png": "[encoded data removed]",
      "text/plain": [
       "<Figure size 432x288 with 1 Axes>"
      ]
     },
     "metadata": {
      "needs_background": "light"
     },
     "output_type": "display_data"
    }
   ],
   "source": [
    "# 取得房價 1000 ~ 5000 的資料 \n",
    "# 繪製成直方圖\n",
    "listings.loc[(listings['price'] <= 5000) & (listings['price'] > 1000)].price.hist(bins=50)"
   ]
  },
  {
   "cell_type": "markdown",
   "metadata": {},
   "source": [
    "#### 利用 boxplot 針對各種\"房型\"確認離群值\n",
    "- 可以看出 Entire home 和 Hotel room 最貴\n",
    "- boxplot() data為要判斷的數據\n",
    "- 圖上方的黑點為離群點"
   ]
  },
  {
   "cell_type": "code",
   "execution_count": 22,
   "metadata": {},
   "outputs": [
    {
     "data": {
      "text/plain": [
       "<AxesSubplot:xlabel='room_type', ylabel='price'>"
      ]
     },
     "execution_count": 22,
     "metadata": {},
     "output_type": "execute_result"
    },
    {
     "data": {
      "image/png": "[encoded data removed]",
      "text/plain": [
       "<Figure size 1008x720 with 1 Axes>"
      ]
     },
     "metadata": {
      "needs_background": "light"
     },
     "output_type": "display_data"
    }
   ],
   "source": [
    "f,ax = plt.subplots(figsize=(14,10))\n",
    "sns.boxplot(y='price',x='room_type',data=listings.loc[(listings['price']<=5000) & (listings['price']>1000)])"
   ]
  },
  {
   "cell_type": "markdown",
   "metadata": {},
   "source": [
    "#### 確認房內設施\n",
    "- 電視, 網路WIFI等等....\n",
    "- 將各種設施獨立取出並做統計"
   ]
  },
  {
   "cell_type": "code",
   "execution_count": 23,
   "metadata": {},
   "outputs": [
    {
     "data": {
      "text/plain": [
       "0    TV,Cable TV,Internet,Wifi,Air conditioning,Whe...\n",
       "1    TV,Cable TV,Internet,Wifi,Air conditioning,Kit...\n",
       "2    TV,Cable TV,Internet,Wifi,Air conditioning,Pai...\n",
       "3    TV,Cable TV,Internet,Wifi,Air conditioning,Pai...\n",
       "4    Cable TV,Internet,Wifi,Air conditioning,Wheelc...\n",
       "Name: amenities, dtype: object"
      ]
     },
     "execution_count": 23,
     "metadata": {},
     "output_type": "execute_result"
    }
   ],
   "source": [
    "listings.amenities[:5]\n",
    "\n",
    "# 移除設施特徵那些奇怪的東西\n",
    "listings.amenities = listings.amenities.str.replace('[{}]','').str.replace('\"','')\n",
    "\n",
    "listings.amenities[:5]"
   ]
  },
  {
   "cell_type": "code",
   "execution_count": 24,
   "metadata": {},
   "outputs": [
    {
     "data": {
      "text/plain": [
       "0    [TV, Cable TV, Internet, Wifi, Air conditionin...\n",
       "1    [TV, Cable TV, Internet, Wifi, Air conditionin...\n",
       "2    [TV, Cable TV, Internet, Wifi, Air conditionin...\n",
       "3    [TV, Cable TV, Internet, Wifi, Air conditionin...\n",
       "4    [Cable TV, Internet, Wifi, Air conditioning, W...\n",
       "Name: amenities, dtype: object"
      ]
     },
     "execution_count": 24,
     "metadata": {},
     "output_type": "execute_result"
    }
   ],
   "source": [
    "# 針對設施做變換操作 對 amns 執行每個字串根據逗號做list變換\n",
    "listings['amenities'].map(lambda amns:amns.split(','))[:5]"
   ]
  },
  {
   "cell_type": "code",
   "execution_count": 25,
   "metadata": {},
   "outputs": [
    {
     "data": {
      "text/plain": [
       "array(['TV', 'Cable TV', 'Internet', ..., 'Hair dryer', 'Iron',\n",
       "       'Laptop-friendly workspace'], dtype='<U42')"
      ]
     },
     "execution_count": 25,
     "metadata": {},
     "output_type": "execute_result"
    }
   ],
   "source": [
    "# np.concatenate 可以做 list 拼接\n",
    "np.concatenate(listings['amenities'].map(lambda amns:amns.split(',')))"
   ]
  },
  {
   "cell_type": "code",
   "execution_count": 26,
   "metadata": {},
   "outputs": [
    {
     "name": "stdout",
     "output_type": "stream",
     "text": [
      "Air conditioning             8137\n",
      "Wifi                         8069\n",
      "Hair dryer                   7808\n",
      "Essentials                   7702\n",
      "Shampoo                      7698\n",
      "TV                           7104\n",
      "Hangers                      6999\n",
      "Washer                       6656\n",
      "Laptop-friendly workspace    6518\n",
      "Fire extinguisher            6364\n",
      "dtype: int64\n"
     ]
    },
    {
     "data": {
      "text/plain": [
       "<AxesSubplot:>"
      ]
     },
     "execution_count": 26,
     "metadata": {},
     "output_type": "execute_result"
    },
    {
     "data": {
      "image/png": "[encoded data removed]",
      "text/plain": [
       "<Figure size 1008x720 with 1 Axes>"
      ]
     },
     "metadata": {
      "needs_background": "light"
     },
     "output_type": "display_data"
    }
   ],
   "source": [
    "# 前十個最常見的設施 : 冷氣, wifi, 吹風機....\n",
    "print(pd.Series(np.concatenate(listings['amenities'].map(lambda amns:amns.split(',')))).value_counts().head(10))\n",
    "\n",
    "f,ax = plt.subplots(figsize=(14,10))\n",
    "pd.Series(np.concatenate(listings['amenities'].map(lambda amns:amns.split(',')))).value_counts().head(10).plot(kind='bar')"
   ]
  },
  {
   "cell_type": "markdown",
   "metadata": {},
   "source": [
    "### 特徵前處理\n",
    "- 確認一下在房價1000~5000中 廁所與房間的關係\n",
    "- 統計 'bathrooms 數量' 和 'bedrooms 數量' 的關係\n",
    "- .pivot('上方row', '左方 column', 'value 統計的是price的指標')\n",
    "- 發現一個(房間bedrooms)一個(廁所bathrooms)的房間最多!\n",
    "- 發現六個房間六個廁所最貴!"
   ]
  },
  {
   "cell_type": "code",
   "execution_count": 27,
   "metadata": {},
   "outputs": [],
   "source": [
    "# 數值特徵列\n",
    "col = ['host_listings_count', 'accommodates', 'bathrooms', 'bedrooms', 'beds', 'price', 'number_of_reviews', 'review_scores_rating', 'reviews_per_month']"
   ]
  },
  {
   "cell_type": "code",
   "execution_count": 28,
   "metadata": {},
   "outputs": [
    {
     "data": {
      "text/html": [
       "<div>\n",
       "<style scoped>\n",
       "    .dataframe tbody tr th:only-of-type {\n",
       "        vertical-align: middle;\n",
       "    }\n",
       "\n",
       "    .dataframe tbody tr th {\n",
       "        vertical-align: top;\n",
       "    }\n",
       "\n",
       "    .dataframe thead th {\n",
       "        text-align: right;\n",
       "    }\n",
       "</style>\n",
       "<table border=\"1\" class=\"dataframe\">\n",
       "  <thead>\n",
       "    <tr style=\"text-align: right;\">\n",
       "      <th>bedrooms</th>\n",
       "      <th>0.0</th>\n",
       "      <th>1.0</th>\n",
       "      <th>2.0</th>\n",
       "      <th>3.0</th>\n",
       "      <th>4.0</th>\n",
       "      <th>5.0</th>\n",
       "      <th>6.0</th>\n",
       "      <th>8.0</th>\n",
       "      <th>11.0</th>\n",
       "      <th>12.0</th>\n",
       "    </tr>\n",
       "    <tr>\n",
       "      <th>bathrooms</th>\n",
       "      <th></th>\n",
       "      <th></th>\n",
       "      <th></th>\n",
       "      <th></th>\n",
       "      <th></th>\n",
       "      <th></th>\n",
       "      <th></th>\n",
       "      <th></th>\n",
       "      <th></th>\n",
       "      <th></th>\n",
       "    </tr>\n",
       "  </thead>\n",
       "  <tbody>\n",
       "    <tr>\n",
       "      <th>0.0</th>\n",
       "      <td>8.0</td>\n",
       "      <td>42.0</td>\n",
       "      <td>NaN</td>\n",
       "      <td>NaN</td>\n",
       "      <td>NaN</td>\n",
       "      <td>NaN</td>\n",
       "      <td>NaN</td>\n",
       "      <td>NaN</td>\n",
       "      <td>NaN</td>\n",
       "      <td>NaN</td>\n",
       "    </tr>\n",
       "    <tr>\n",
       "      <th>0.5</th>\n",
       "      <td>4.0</td>\n",
       "      <td>45.0</td>\n",
       "      <td>1.0</td>\n",
       "      <td>NaN</td>\n",
       "      <td>NaN</td>\n",
       "      <td>NaN</td>\n",
       "      <td>NaN</td>\n",
       "      <td>NaN</td>\n",
       "      <td>NaN</td>\n",
       "      <td>NaN</td>\n",
       "    </tr>\n",
       "    <tr>\n",
       "      <th>1.0</th>\n",
       "      <td>588.0</td>\n",
       "      <td>4396.0</td>\n",
       "      <td>466.0</td>\n",
       "      <td>99.0</td>\n",
       "      <td>8.0</td>\n",
       "      <td>1.0</td>\n",
       "      <td>NaN</td>\n",
       "      <td>NaN</td>\n",
       "      <td>NaN</td>\n",
       "      <td>NaN</td>\n",
       "    </tr>\n",
       "    <tr>\n",
       "      <th>1.5</th>\n",
       "      <td>39.0</td>\n",
       "      <td>639.0</td>\n",
       "      <td>79.0</td>\n",
       "      <td>43.0</td>\n",
       "      <td>1.0</td>\n",
       "      <td>1.0</td>\n",
       "      <td>NaN</td>\n",
       "      <td>NaN</td>\n",
       "      <td>NaN</td>\n",
       "      <td>NaN</td>\n",
       "    </tr>\n",
       "    <tr>\n",
       "      <th>2.0</th>\n",
       "      <td>5.0</td>\n",
       "      <td>248.0</td>\n",
       "      <td>184.0</td>\n",
       "      <td>187.0</td>\n",
       "      <td>33.0</td>\n",
       "      <td>1.0</td>\n",
       "      <td>1.0</td>\n",
       "      <td>NaN</td>\n",
       "      <td>NaN</td>\n",
       "      <td>NaN</td>\n",
       "    </tr>\n",
       "    <tr>\n",
       "      <th>2.5</th>\n",
       "      <td>NaN</td>\n",
       "      <td>47.0</td>\n",
       "      <td>11.0</td>\n",
       "      <td>3.0</td>\n",
       "      <td>5.0</td>\n",
       "      <td>NaN</td>\n",
       "      <td>NaN</td>\n",
       "      <td>NaN</td>\n",
       "      <td>NaN</td>\n",
       "      <td>NaN</td>\n",
       "    </tr>\n",
       "    <tr>\n",
       "      <th>3.0</th>\n",
       "      <td>1.0</td>\n",
       "      <td>241.0</td>\n",
       "      <td>10.0</td>\n",
       "      <td>44.0</td>\n",
       "      <td>14.0</td>\n",
       "      <td>4.0</td>\n",
       "      <td>NaN</td>\n",
       "      <td>1.0</td>\n",
       "      <td>NaN</td>\n",
       "      <td>NaN</td>\n",
       "    </tr>\n",
       "    <tr>\n",
       "      <th>3.5</th>\n",
       "      <td>NaN</td>\n",
       "      <td>13.0</td>\n",
       "      <td>NaN</td>\n",
       "      <td>5.0</td>\n",
       "      <td>1.0</td>\n",
       "      <td>1.0</td>\n",
       "      <td>NaN</td>\n",
       "      <td>NaN</td>\n",
       "      <td>NaN</td>\n",
       "      <td>NaN</td>\n",
       "    </tr>\n",
       "    <tr>\n",
       "      <th>4.0</th>\n",
       "      <td>NaN</td>\n",
       "      <td>45.0</td>\n",
       "      <td>NaN</td>\n",
       "      <td>2.0</td>\n",
       "      <td>3.0</td>\n",
       "      <td>1.0</td>\n",
       "      <td>1.0</td>\n",
       "      <td>NaN</td>\n",
       "      <td>NaN</td>\n",
       "      <td>NaN</td>\n",
       "    </tr>\n",
       "    <tr>\n",
       "      <th>4.5</th>\n",
       "      <td>NaN</td>\n",
       "      <td>10.0</td>\n",
       "      <td>NaN</td>\n",
       "      <td>1.0</td>\n",
       "      <td>NaN</td>\n",
       "      <td>NaN</td>\n",
       "      <td>NaN</td>\n",
       "      <td>NaN</td>\n",
       "      <td>NaN</td>\n",
       "      <td>NaN</td>\n",
       "    </tr>\n",
       "    <tr>\n",
       "      <th>5.0</th>\n",
       "      <td>1.0</td>\n",
       "      <td>59.0</td>\n",
       "      <td>NaN</td>\n",
       "      <td>1.0</td>\n",
       "      <td>1.0</td>\n",
       "      <td>3.0</td>\n",
       "      <td>NaN</td>\n",
       "      <td>NaN</td>\n",
       "      <td>NaN</td>\n",
       "      <td>NaN</td>\n",
       "    </tr>\n",
       "    <tr>\n",
       "      <th>6.0</th>\n",
       "      <td>NaN</td>\n",
       "      <td>23.0</td>\n",
       "      <td>NaN</td>\n",
       "      <td>NaN</td>\n",
       "      <td>1.0</td>\n",
       "      <td>NaN</td>\n",
       "      <td>1.0</td>\n",
       "      <td>NaN</td>\n",
       "      <td>NaN</td>\n",
       "      <td>NaN</td>\n",
       "    </tr>\n",
       "    <tr>\n",
       "      <th>6.5</th>\n",
       "      <td>NaN</td>\n",
       "      <td>2.0</td>\n",
       "      <td>NaN</td>\n",
       "      <td>NaN</td>\n",
       "      <td>NaN</td>\n",
       "      <td>NaN</td>\n",
       "      <td>NaN</td>\n",
       "      <td>NaN</td>\n",
       "      <td>NaN</td>\n",
       "      <td>NaN</td>\n",
       "    </tr>\n",
       "    <tr>\n",
       "      <th>7.0</th>\n",
       "      <td>NaN</td>\n",
       "      <td>3.0</td>\n",
       "      <td>NaN</td>\n",
       "      <td>NaN</td>\n",
       "      <td>NaN</td>\n",
       "      <td>NaN</td>\n",
       "      <td>NaN</td>\n",
       "      <td>NaN</td>\n",
       "      <td>NaN</td>\n",
       "      <td>NaN</td>\n",
       "    </tr>\n",
       "    <tr>\n",
       "      <th>8.0</th>\n",
       "      <td>NaN</td>\n",
       "      <td>71.0</td>\n",
       "      <td>NaN</td>\n",
       "      <td>NaN</td>\n",
       "      <td>NaN</td>\n",
       "      <td>NaN</td>\n",
       "      <td>NaN</td>\n",
       "      <td>4.0</td>\n",
       "      <td>NaN</td>\n",
       "      <td>NaN</td>\n",
       "    </tr>\n",
       "    <tr>\n",
       "      <th>8.5</th>\n",
       "      <td>NaN</td>\n",
       "      <td>2.0</td>\n",
       "      <td>NaN</td>\n",
       "      <td>NaN</td>\n",
       "      <td>NaN</td>\n",
       "      <td>NaN</td>\n",
       "      <td>NaN</td>\n",
       "      <td>NaN</td>\n",
       "      <td>NaN</td>\n",
       "      <td>NaN</td>\n",
       "    </tr>\n",
       "    <tr>\n",
       "      <th>9.0</th>\n",
       "      <td>NaN</td>\n",
       "      <td>3.0</td>\n",
       "      <td>NaN</td>\n",
       "      <td>NaN</td>\n",
       "      <td>NaN</td>\n",
       "      <td>NaN</td>\n",
       "      <td>NaN</td>\n",
       "      <td>NaN</td>\n",
       "      <td>NaN</td>\n",
       "      <td>NaN</td>\n",
       "    </tr>\n",
       "    <tr>\n",
       "      <th>10.0</th>\n",
       "      <td>NaN</td>\n",
       "      <td>10.0</td>\n",
       "      <td>NaN</td>\n",
       "      <td>NaN</td>\n",
       "      <td>NaN</td>\n",
       "      <td>NaN</td>\n",
       "      <td>NaN</td>\n",
       "      <td>NaN</td>\n",
       "      <td>NaN</td>\n",
       "      <td>NaN</td>\n",
       "    </tr>\n",
       "    <tr>\n",
       "      <th>10.5</th>\n",
       "      <td>NaN</td>\n",
       "      <td>1.0</td>\n",
       "      <td>NaN</td>\n",
       "      <td>NaN</td>\n",
       "      <td>NaN</td>\n",
       "      <td>NaN</td>\n",
       "      <td>NaN</td>\n",
       "      <td>NaN</td>\n",
       "      <td>NaN</td>\n",
       "      <td>NaN</td>\n",
       "    </tr>\n",
       "    <tr>\n",
       "      <th>11.5</th>\n",
       "      <td>NaN</td>\n",
       "      <td>NaN</td>\n",
       "      <td>NaN</td>\n",
       "      <td>NaN</td>\n",
       "      <td>NaN</td>\n",
       "      <td>NaN</td>\n",
       "      <td>NaN</td>\n",
       "      <td>NaN</td>\n",
       "      <td>1.0</td>\n",
       "      <td>NaN</td>\n",
       "    </tr>\n",
       "    <tr>\n",
       "      <th>12.0</th>\n",
       "      <td>NaN</td>\n",
       "      <td>11.0</td>\n",
       "      <td>NaN</td>\n",
       "      <td>NaN</td>\n",
       "      <td>NaN</td>\n",
       "      <td>NaN</td>\n",
       "      <td>NaN</td>\n",
       "      <td>NaN</td>\n",
       "      <td>NaN</td>\n",
       "      <td>NaN</td>\n",
       "    </tr>\n",
       "    <tr>\n",
       "      <th>12.5</th>\n",
       "      <td>NaN</td>\n",
       "      <td>NaN</td>\n",
       "      <td>NaN</td>\n",
       "      <td>NaN</td>\n",
       "      <td>NaN</td>\n",
       "      <td>NaN</td>\n",
       "      <td>NaN</td>\n",
       "      <td>NaN</td>\n",
       "      <td>NaN</td>\n",
       "      <td>1.0</td>\n",
       "    </tr>\n",
       "    <tr>\n",
       "      <th>13.0</th>\n",
       "      <td>NaN</td>\n",
       "      <td>2.0</td>\n",
       "      <td>NaN</td>\n",
       "      <td>NaN</td>\n",
       "      <td>NaN</td>\n",
       "      <td>NaN</td>\n",
       "      <td>NaN</td>\n",
       "      <td>NaN</td>\n",
       "      <td>NaN</td>\n",
       "      <td>NaN</td>\n",
       "    </tr>\n",
       "    <tr>\n",
       "      <th>15.5</th>\n",
       "      <td>NaN</td>\n",
       "      <td>1.0</td>\n",
       "      <td>NaN</td>\n",
       "      <td>NaN</td>\n",
       "      <td>NaN</td>\n",
       "      <td>NaN</td>\n",
       "      <td>NaN</td>\n",
       "      <td>NaN</td>\n",
       "      <td>NaN</td>\n",
       "      <td>NaN</td>\n",
       "    </tr>\n",
       "    <tr>\n",
       "      <th>16.5</th>\n",
       "      <td>NaN</td>\n",
       "      <td>1.0</td>\n",
       "      <td>NaN</td>\n",
       "      <td>NaN</td>\n",
       "      <td>NaN</td>\n",
       "      <td>NaN</td>\n",
       "      <td>NaN</td>\n",
       "      <td>NaN</td>\n",
       "      <td>NaN</td>\n",
       "      <td>NaN</td>\n",
       "    </tr>\n",
       "    <tr>\n",
       "      <th>17.0</th>\n",
       "      <td>NaN</td>\n",
       "      <td>3.0</td>\n",
       "      <td>NaN</td>\n",
       "      <td>NaN</td>\n",
       "      <td>NaN</td>\n",
       "      <td>NaN</td>\n",
       "      <td>NaN</td>\n",
       "      <td>NaN</td>\n",
       "      <td>NaN</td>\n",
       "      <td>NaN</td>\n",
       "    </tr>\n",
       "  </tbody>\n",
       "</table>\n",
       "</div>"
      ],
      "text/plain": [
       "bedrooms    0.0     1.0    2.0    3.0   4.0   5.0   6.0   8.0   11.0  12.0\n",
       "bathrooms                                                                 \n",
       "0.0          8.0    42.0    NaN    NaN   NaN   NaN   NaN   NaN   NaN   NaN\n",
       "0.5          4.0    45.0    1.0    NaN   NaN   NaN   NaN   NaN   NaN   NaN\n",
       "1.0        588.0  4396.0  466.0   99.0   8.0   1.0   NaN   NaN   NaN   NaN\n",
       "1.5         39.0   639.0   79.0   43.0   1.0   1.0   NaN   NaN   NaN   NaN\n",
       "2.0          5.0   248.0  184.0  187.0  33.0   1.0   1.0   NaN   NaN   NaN\n",
       "2.5          NaN    47.0   11.0    3.0   5.0   NaN   NaN   NaN   NaN   NaN\n",
       "3.0          1.0   241.0   10.0   44.0  14.0   4.0   NaN   1.0   NaN   NaN\n",
       "3.5          NaN    13.0    NaN    5.0   1.0   1.0   NaN   NaN   NaN   NaN\n",
       "4.0          NaN    45.0    NaN    2.0   3.0   1.0   1.0   NaN   NaN   NaN\n",
       "4.5          NaN    10.0    NaN    1.0   NaN   NaN   NaN   NaN   NaN   NaN\n",
       "5.0          1.0    59.0    NaN    1.0   1.0   3.0   NaN   NaN   NaN   NaN\n",
       "6.0          NaN    23.0    NaN    NaN   1.0   NaN   1.0   NaN   NaN   NaN\n",
       "6.5          NaN     2.0    NaN    NaN   NaN   NaN   NaN   NaN   NaN   NaN\n",
       "7.0          NaN     3.0    NaN    NaN   NaN   NaN   NaN   NaN   NaN   NaN\n",
       "8.0          NaN    71.0    NaN    NaN   NaN   NaN   NaN   4.0   NaN   NaN\n",
       "8.5          NaN     2.0    NaN    NaN   NaN   NaN   NaN   NaN   NaN   NaN\n",
       "9.0          NaN     3.0    NaN    NaN   NaN   NaN   NaN   NaN   NaN   NaN\n",
       "10.0         NaN    10.0    NaN    NaN   NaN   NaN   NaN   NaN   NaN   NaN\n",
       "10.5         NaN     1.0    NaN    NaN   NaN   NaN   NaN   NaN   NaN   NaN\n",
       "11.5         NaN     NaN    NaN    NaN   NaN   NaN   NaN   NaN   1.0   NaN\n",
       "12.0         NaN    11.0    NaN    NaN   NaN   NaN   NaN   NaN   NaN   NaN\n",
       "12.5         NaN     NaN    NaN    NaN   NaN   NaN   NaN   NaN   NaN   1.0\n",
       "13.0         NaN     2.0    NaN    NaN   NaN   NaN   NaN   NaN   NaN   NaN\n",
       "15.5         NaN     1.0    NaN    NaN   NaN   NaN   NaN   NaN   NaN   NaN\n",
       "16.5         NaN     1.0    NaN    NaN   NaN   NaN   NaN   NaN   NaN   NaN\n",
       "17.0         NaN     3.0    NaN    NaN   NaN   NaN   NaN   NaN   NaN   NaN"
      ]
     },
     "execution_count": 28,
     "metadata": {},
     "output_type": "execute_result"
    }
   ],
   "source": [
    "# 根據房間數與廁所數計數 count()\n",
    "\n",
    "cur_input = listings.loc[(listings['price']<=5000) & (listings['price']>0)].groupby(['bathrooms','bedrooms']).count()['price'].reset_index().pivot('bathrooms','bedrooms','price')\n",
    "\n",
    "cur_input"
   ]
  },
  {
   "cell_type": "code",
   "execution_count": 29,
   "metadata": {},
   "outputs": [
    {
     "data": {
      "text/plain": [
       "<AxesSubplot:xlabel='bedrooms', ylabel='bathrooms'>"
      ]
     },
     "execution_count": 29,
     "metadata": {},
     "output_type": "execute_result"
    },
    {
     "data": {
      "image/png": "[encoded data removed]",
      "text/plain": [
       "<Figure size 1008x720 with 2 Axes>"
      ]
     },
     "metadata": {
      "needs_background": "light"
     },
     "output_type": "display_data"
    }
   ],
   "source": [
    "# 房間數量可視化\n",
    "#  fmt='.0f' 將科學記號轉數值\n",
    "f,ax = plt.subplots(figsize=(14,10))\n",
    "sns.heatmap(cur_input,cmap='Oranges',annot=True,linewidths=0.5, fmt='.0f')"
   ]
  },
  {
   "cell_type": "code",
   "execution_count": 30,
   "metadata": {},
   "outputs": [
    {
     "data": {
      "text/html": [
       "<div>\n",
       "<style scoped>\n",
       "    .dataframe tbody tr th:only-of-type {\n",
       "        vertical-align: middle;\n",
       "    }\n",
       "\n",
       "    .dataframe tbody tr th {\n",
       "        vertical-align: top;\n",
       "    }\n",
       "\n",
       "    .dataframe thead th {\n",
       "        text-align: right;\n",
       "    }\n",
       "</style>\n",
       "<table border=\"1\" class=\"dataframe\">\n",
       "  <thead>\n",
       "    <tr style=\"text-align: right;\">\n",
       "      <th>bedrooms</th>\n",
       "      <th>0.0</th>\n",
       "      <th>1.0</th>\n",
       "      <th>2.0</th>\n",
       "      <th>3.0</th>\n",
       "      <th>4.0</th>\n",
       "      <th>5.0</th>\n",
       "      <th>6.0</th>\n",
       "      <th>8.0</th>\n",
       "      <th>11.0</th>\n",
       "      <th>12.0</th>\n",
       "    </tr>\n",
       "    <tr>\n",
       "      <th>bathrooms</th>\n",
       "      <th></th>\n",
       "      <th></th>\n",
       "      <th></th>\n",
       "      <th></th>\n",
       "      <th></th>\n",
       "      <th></th>\n",
       "      <th></th>\n",
       "      <th></th>\n",
       "      <th></th>\n",
       "      <th></th>\n",
       "    </tr>\n",
       "  </thead>\n",
       "  <tbody>\n",
       "    <tr>\n",
       "      <th>0.0</th>\n",
       "      <td>1257.625000</td>\n",
       "      <td>1084.857143</td>\n",
       "      <td>NaN</td>\n",
       "      <td>NaN</td>\n",
       "      <td>NaN</td>\n",
       "      <td>NaN</td>\n",
       "      <td>NaN</td>\n",
       "      <td>NaN</td>\n",
       "      <td>NaN</td>\n",
       "      <td>NaN</td>\n",
       "    </tr>\n",
       "    <tr>\n",
       "      <th>0.5</th>\n",
       "      <td>1759.750000</td>\n",
       "      <td>910.022222</td>\n",
       "      <td>1738.000000</td>\n",
       "      <td>NaN</td>\n",
       "      <td>NaN</td>\n",
       "      <td>NaN</td>\n",
       "      <td>NaN</td>\n",
       "      <td>NaN</td>\n",
       "      <td>NaN</td>\n",
       "      <td>NaN</td>\n",
       "    </tr>\n",
       "    <tr>\n",
       "      <th>1.0</th>\n",
       "      <td>1614.200680</td>\n",
       "      <td>1508.630118</td>\n",
       "      <td>2391.313305</td>\n",
       "      <td>2931.303030</td>\n",
       "      <td>2443.500000</td>\n",
       "      <td>1408.0</td>\n",
       "      <td>NaN</td>\n",
       "      <td>NaN</td>\n",
       "      <td>NaN</td>\n",
       "      <td>NaN</td>\n",
       "    </tr>\n",
       "    <tr>\n",
       "      <th>1.5</th>\n",
       "      <td>1578.897436</td>\n",
       "      <td>1420.769953</td>\n",
       "      <td>2516.367089</td>\n",
       "      <td>2907.093023</td>\n",
       "      <td>4010.000000</td>\n",
       "      <td>1498.0</td>\n",
       "      <td>NaN</td>\n",
       "      <td>NaN</td>\n",
       "      <td>NaN</td>\n",
       "      <td>NaN</td>\n",
       "    </tr>\n",
       "    <tr>\n",
       "      <th>2.0</th>\n",
       "      <td>2989.800000</td>\n",
       "      <td>989.306452</td>\n",
       "      <td>3069.907609</td>\n",
       "      <td>3547.032086</td>\n",
       "      <td>3712.757576</td>\n",
       "      <td>3890.0</td>\n",
       "      <td>1198.0</td>\n",
       "      <td>NaN</td>\n",
       "      <td>NaN</td>\n",
       "      <td>NaN</td>\n",
       "    </tr>\n",
       "    <tr>\n",
       "      <th>2.5</th>\n",
       "      <td>NaN</td>\n",
       "      <td>1163.425532</td>\n",
       "      <td>3125.818182</td>\n",
       "      <td>1847.333333</td>\n",
       "      <td>3000.200000</td>\n",
       "      <td>NaN</td>\n",
       "      <td>NaN</td>\n",
       "      <td>NaN</td>\n",
       "      <td>NaN</td>\n",
       "      <td>NaN</td>\n",
       "    </tr>\n",
       "    <tr>\n",
       "      <th>3.0</th>\n",
       "      <td>1047.000000</td>\n",
       "      <td>1054.987552</td>\n",
       "      <td>3230.100000</td>\n",
       "      <td>3299.772727</td>\n",
       "      <td>3080.500000</td>\n",
       "      <td>3743.0</td>\n",
       "      <td>NaN</td>\n",
       "      <td>389.0</td>\n",
       "      <td>NaN</td>\n",
       "      <td>NaN</td>\n",
       "    </tr>\n",
       "    <tr>\n",
       "      <th>3.5</th>\n",
       "      <td>NaN</td>\n",
       "      <td>513.538462</td>\n",
       "      <td>NaN</td>\n",
       "      <td>3441.600000</td>\n",
       "      <td>3865.000000</td>\n",
       "      <td>1287.0</td>\n",
       "      <td>NaN</td>\n",
       "      <td>NaN</td>\n",
       "      <td>NaN</td>\n",
       "      <td>NaN</td>\n",
       "    </tr>\n",
       "    <tr>\n",
       "      <th>4.0</th>\n",
       "      <td>NaN</td>\n",
       "      <td>866.488889</td>\n",
       "      <td>NaN</td>\n",
       "      <td>2187.000000</td>\n",
       "      <td>4292.333333</td>\n",
       "      <td>1258.0</td>\n",
       "      <td>2187.0</td>\n",
       "      <td>NaN</td>\n",
       "      <td>NaN</td>\n",
       "      <td>NaN</td>\n",
       "    </tr>\n",
       "    <tr>\n",
       "      <th>4.5</th>\n",
       "      <td>NaN</td>\n",
       "      <td>1452.700000</td>\n",
       "      <td>NaN</td>\n",
       "      <td>4823.000000</td>\n",
       "      <td>NaN</td>\n",
       "      <td>NaN</td>\n",
       "      <td>NaN</td>\n",
       "      <td>NaN</td>\n",
       "      <td>NaN</td>\n",
       "      <td>NaN</td>\n",
       "    </tr>\n",
       "    <tr>\n",
       "      <th>5.0</th>\n",
       "      <td>868.000000</td>\n",
       "      <td>1042.525424</td>\n",
       "      <td>NaN</td>\n",
       "      <td>1227.000000</td>\n",
       "      <td>2155.000000</td>\n",
       "      <td>2495.0</td>\n",
       "      <td>NaN</td>\n",
       "      <td>NaN</td>\n",
       "      <td>NaN</td>\n",
       "      <td>NaN</td>\n",
       "    </tr>\n",
       "    <tr>\n",
       "      <th>6.0</th>\n",
       "      <td>NaN</td>\n",
       "      <td>921.608696</td>\n",
       "      <td>NaN</td>\n",
       "      <td>NaN</td>\n",
       "      <td>4489.000000</td>\n",
       "      <td>NaN</td>\n",
       "      <td>2666.0</td>\n",
       "      <td>NaN</td>\n",
       "      <td>NaN</td>\n",
       "      <td>NaN</td>\n",
       "    </tr>\n",
       "    <tr>\n",
       "      <th>6.5</th>\n",
       "      <td>NaN</td>\n",
       "      <td>614.000000</td>\n",
       "      <td>NaN</td>\n",
       "      <td>NaN</td>\n",
       "      <td>NaN</td>\n",
       "      <td>NaN</td>\n",
       "      <td>NaN</td>\n",
       "      <td>NaN</td>\n",
       "      <td>NaN</td>\n",
       "      <td>NaN</td>\n",
       "    </tr>\n",
       "    <tr>\n",
       "      <th>7.0</th>\n",
       "      <td>NaN</td>\n",
       "      <td>1048.000000</td>\n",
       "      <td>NaN</td>\n",
       "      <td>NaN</td>\n",
       "      <td>NaN</td>\n",
       "      <td>NaN</td>\n",
       "      <td>NaN</td>\n",
       "      <td>NaN</td>\n",
       "      <td>NaN</td>\n",
       "      <td>NaN</td>\n",
       "    </tr>\n",
       "    <tr>\n",
       "      <th>8.0</th>\n",
       "      <td>NaN</td>\n",
       "      <td>701.788732</td>\n",
       "      <td>NaN</td>\n",
       "      <td>NaN</td>\n",
       "      <td>NaN</td>\n",
       "      <td>NaN</td>\n",
       "      <td>NaN</td>\n",
       "      <td>2006.5</td>\n",
       "      <td>NaN</td>\n",
       "      <td>NaN</td>\n",
       "    </tr>\n",
       "    <tr>\n",
       "      <th>8.5</th>\n",
       "      <td>NaN</td>\n",
       "      <td>1198.000000</td>\n",
       "      <td>NaN</td>\n",
       "      <td>NaN</td>\n",
       "      <td>NaN</td>\n",
       "      <td>NaN</td>\n",
       "      <td>NaN</td>\n",
       "      <td>NaN</td>\n",
       "      <td>NaN</td>\n",
       "      <td>NaN</td>\n",
       "    </tr>\n",
       "    <tr>\n",
       "      <th>9.0</th>\n",
       "      <td>NaN</td>\n",
       "      <td>678.666667</td>\n",
       "      <td>NaN</td>\n",
       "      <td>NaN</td>\n",
       "      <td>NaN</td>\n",
       "      <td>NaN</td>\n",
       "      <td>NaN</td>\n",
       "      <td>NaN</td>\n",
       "      <td>NaN</td>\n",
       "      <td>NaN</td>\n",
       "    </tr>\n",
       "    <tr>\n",
       "      <th>10.0</th>\n",
       "      <td>NaN</td>\n",
       "      <td>838.200000</td>\n",
       "      <td>NaN</td>\n",
       "      <td>NaN</td>\n",
       "      <td>NaN</td>\n",
       "      <td>NaN</td>\n",
       "      <td>NaN</td>\n",
       "      <td>NaN</td>\n",
       "      <td>NaN</td>\n",
       "      <td>NaN</td>\n",
       "    </tr>\n",
       "    <tr>\n",
       "      <th>10.5</th>\n",
       "      <td>NaN</td>\n",
       "      <td>509.000000</td>\n",
       "      <td>NaN</td>\n",
       "      <td>NaN</td>\n",
       "      <td>NaN</td>\n",
       "      <td>NaN</td>\n",
       "      <td>NaN</td>\n",
       "      <td>NaN</td>\n",
       "      <td>NaN</td>\n",
       "      <td>NaN</td>\n",
       "    </tr>\n",
       "    <tr>\n",
       "      <th>11.5</th>\n",
       "      <td>NaN</td>\n",
       "      <td>NaN</td>\n",
       "      <td>NaN</td>\n",
       "      <td>NaN</td>\n",
       "      <td>NaN</td>\n",
       "      <td>NaN</td>\n",
       "      <td>NaN</td>\n",
       "      <td>NaN</td>\n",
       "      <td>1798.0</td>\n",
       "      <td>NaN</td>\n",
       "    </tr>\n",
       "    <tr>\n",
       "      <th>12.0</th>\n",
       "      <td>NaN</td>\n",
       "      <td>2063.909091</td>\n",
       "      <td>NaN</td>\n",
       "      <td>NaN</td>\n",
       "      <td>NaN</td>\n",
       "      <td>NaN</td>\n",
       "      <td>NaN</td>\n",
       "      <td>NaN</td>\n",
       "      <td>NaN</td>\n",
       "      <td>NaN</td>\n",
       "    </tr>\n",
       "    <tr>\n",
       "      <th>12.5</th>\n",
       "      <td>NaN</td>\n",
       "      <td>NaN</td>\n",
       "      <td>NaN</td>\n",
       "      <td>NaN</td>\n",
       "      <td>NaN</td>\n",
       "      <td>NaN</td>\n",
       "      <td>NaN</td>\n",
       "      <td>NaN</td>\n",
       "      <td>NaN</td>\n",
       "      <td>1796.0</td>\n",
       "    </tr>\n",
       "    <tr>\n",
       "      <th>13.0</th>\n",
       "      <td>NaN</td>\n",
       "      <td>2501.500000</td>\n",
       "      <td>NaN</td>\n",
       "      <td>NaN</td>\n",
       "      <td>NaN</td>\n",
       "      <td>NaN</td>\n",
       "      <td>NaN</td>\n",
       "      <td>NaN</td>\n",
       "      <td>NaN</td>\n",
       "      <td>NaN</td>\n",
       "    </tr>\n",
       "    <tr>\n",
       "      <th>15.5</th>\n",
       "      <td>NaN</td>\n",
       "      <td>509.000000</td>\n",
       "      <td>NaN</td>\n",
       "      <td>NaN</td>\n",
       "      <td>NaN</td>\n",
       "      <td>NaN</td>\n",
       "      <td>NaN</td>\n",
       "      <td>NaN</td>\n",
       "      <td>NaN</td>\n",
       "      <td>NaN</td>\n",
       "    </tr>\n",
       "    <tr>\n",
       "      <th>16.5</th>\n",
       "      <td>NaN</td>\n",
       "      <td>989.000000</td>\n",
       "      <td>NaN</td>\n",
       "      <td>NaN</td>\n",
       "      <td>NaN</td>\n",
       "      <td>NaN</td>\n",
       "      <td>NaN</td>\n",
       "      <td>NaN</td>\n",
       "      <td>NaN</td>\n",
       "      <td>NaN</td>\n",
       "    </tr>\n",
       "    <tr>\n",
       "      <th>17.0</th>\n",
       "      <td>NaN</td>\n",
       "      <td>3005.666667</td>\n",
       "      <td>NaN</td>\n",
       "      <td>NaN</td>\n",
       "      <td>NaN</td>\n",
       "      <td>NaN</td>\n",
       "      <td>NaN</td>\n",
       "      <td>NaN</td>\n",
       "      <td>NaN</td>\n",
       "      <td>NaN</td>\n",
       "    </tr>\n",
       "  </tbody>\n",
       "</table>\n",
       "</div>"
      ],
      "text/plain": [
       "bedrooms          0.0          1.0          2.0          3.0          4.0   \\\n",
       "bathrooms                                                                    \n",
       "0.0        1257.625000  1084.857143          NaN          NaN          NaN   \n",
       "0.5        1759.750000   910.022222  1738.000000          NaN          NaN   \n",
       "1.0        1614.200680  1508.630118  2391.313305  2931.303030  2443.500000   \n",
       "1.5        1578.897436  1420.769953  2516.367089  2907.093023  4010.000000   \n",
       "2.0        2989.800000   989.306452  3069.907609  3547.032086  3712.757576   \n",
       "2.5                NaN  1163.425532  3125.818182  1847.333333  3000.200000   \n",
       "3.0        1047.000000  1054.987552  3230.100000  3299.772727  3080.500000   \n",
       "3.5                NaN   513.538462          NaN  3441.600000  3865.000000   \n",
       "4.0                NaN   866.488889          NaN  2187.000000  4292.333333   \n",
       "4.5                NaN  1452.700000          NaN  4823.000000          NaN   \n",
       "5.0         868.000000  1042.525424          NaN  1227.000000  2155.000000   \n",
       "6.0                NaN   921.608696          NaN          NaN  4489.000000   \n",
       "6.5                NaN   614.000000          NaN          NaN          NaN   \n",
       "7.0                NaN  1048.000000          NaN          NaN          NaN   \n",
       "8.0                NaN   701.788732          NaN          NaN          NaN   \n",
       "8.5                NaN  1198.000000          NaN          NaN          NaN   \n",
       "9.0                NaN   678.666667          NaN          NaN          NaN   \n",
       "10.0               NaN   838.200000          NaN          NaN          NaN   \n",
       "10.5               NaN   509.000000          NaN          NaN          NaN   \n",
       "11.5               NaN          NaN          NaN          NaN          NaN   \n",
       "12.0               NaN  2063.909091          NaN          NaN          NaN   \n",
       "12.5               NaN          NaN          NaN          NaN          NaN   \n",
       "13.0               NaN  2501.500000          NaN          NaN          NaN   \n",
       "15.5               NaN   509.000000          NaN          NaN          NaN   \n",
       "16.5               NaN   989.000000          NaN          NaN          NaN   \n",
       "17.0               NaN  3005.666667          NaN          NaN          NaN   \n",
       "\n",
       "bedrooms     5.0     6.0     8.0     11.0    12.0  \n",
       "bathrooms                                          \n",
       "0.0           NaN     NaN     NaN     NaN     NaN  \n",
       "0.5           NaN     NaN     NaN     NaN     NaN  \n",
       "1.0        1408.0     NaN     NaN     NaN     NaN  \n",
       "1.5        1498.0     NaN     NaN     NaN     NaN  \n",
       "2.0        3890.0  1198.0     NaN     NaN     NaN  \n",
       "2.5           NaN     NaN     NaN     NaN     NaN  \n",
       "3.0        3743.0     NaN   389.0     NaN     NaN  \n",
       "3.5        1287.0     NaN     NaN     NaN     NaN  \n",
       "4.0        1258.0  2187.0     NaN     NaN     NaN  \n",
       "4.5           NaN     NaN     NaN     NaN     NaN  \n",
       "5.0        2495.0     NaN     NaN     NaN     NaN  \n",
       "6.0           NaN  2666.0     NaN     NaN     NaN  \n",
       "6.5           NaN     NaN     NaN     NaN     NaN  \n",
       "7.0           NaN     NaN     NaN     NaN     NaN  \n",
       "8.0           NaN     NaN  2006.5     NaN     NaN  \n",
       "8.5           NaN     NaN     NaN     NaN     NaN  \n",
       "9.0           NaN     NaN     NaN     NaN     NaN  \n",
       "10.0          NaN     NaN     NaN     NaN     NaN  \n",
       "10.5          NaN     NaN     NaN     NaN     NaN  \n",
       "11.5          NaN     NaN     NaN  1798.0     NaN  \n",
       "12.0          NaN     NaN     NaN     NaN     NaN  \n",
       "12.5          NaN     NaN     NaN     NaN  1796.0  \n",
       "13.0          NaN     NaN     NaN     NaN     NaN  \n",
       "15.5          NaN     NaN     NaN     NaN     NaN  \n",
       "16.5          NaN     NaN     NaN     NaN     NaN  \n",
       "17.0          NaN     NaN     NaN     NaN     NaN  "
      ]
     },
     "execution_count": 30,
     "metadata": {},
     "output_type": "execute_result"
    }
   ],
   "source": [
    "# 取平均值而非計數 mean()\n",
    "\n",
    "mean_input = listings.loc[(listings['price']<=5000) & (listings['price']>0)].groupby(['bathrooms','bedrooms']).mean()['price'].reset_index().pivot('bathrooms','bedrooms','price')\n",
    "\n",
    "mean_input"
   ]
  },
  {
   "cell_type": "code",
   "execution_count": 31,
   "metadata": {},
   "outputs": [
    {
     "data": {
      "text/plain": [
       "<AxesSubplot:xlabel='bedrooms', ylabel='bathrooms'>"
      ]
     },
     "execution_count": 31,
     "metadata": {},
     "output_type": "execute_result"
    },
    {
     "data": {
      "image/png": "[encoded data removed]",
      "text/plain": [
       "<Figure size 1008x720 with 2 Axes>"
      ]
     },
     "metadata": {
      "needs_background": "light"
     },
     "output_type": "display_data"
    }
   ],
   "source": [
    "# 房間數量可視化\n",
    "#  fmt='.0f' 將科學記號轉數值\n",
    "f,ax = plt.subplots(figsize=(14,10))\n",
    "sns.heatmap(mean_input,cmap='Oranges',annot=True,linewidths=0.5, fmt='.0f')"
   ]
  },
  {
   "cell_type": "markdown",
   "metadata": {},
   "source": [
    "### 建立模型\n",
    "- 重新讀取房間資訊資料, 並作前處理\n",
    "- 將部分特徵資訊, 含有t & f 的 做些0、1轉換 (true/false => 0/1)"
   ]
  },
  {
   "cell_type": "code",
   "execution_count": 32,
   "metadata": {},
   "outputs": [],
   "source": [
    "listings = pd.read_csv('.\\data\\Seattle Airbnb Open Data\\listings.csv')\n",
    "listings['price'] = listings['price'].str.replace('$','')\n",
    "listings['price'] = listings['price'].str.replace(',','')\n",
    "listings['price'] = listings['price'].astype(float)\n",
    "listings = listings.loc[(listings['price'] <= 10000) & (listings['price'] > 0)] # 過濾離群值\n",
    "listings.amenities = listings.amenities.str.replace('[{}]','').str.replace('\"','')"
   ]
  },
  {
   "cell_type": "code",
   "execution_count": 33,
   "metadata": {},
   "outputs": [],
   "source": [
    "columns =  ['host_is_superhost', 'host_identity_verified', 'host_has_profile_pic',\n",
    "                   'is_location_exact', 'requires_license', 'instant_bookable',\n",
    "                   'require_guest_profile_picture', 'require_guest_phone_verification']\n",
    "for c in columns:\n",
    "    listings[c] = listings[c].replace('f',0,regex=True)\n",
    "    listings[c] = listings[c].replace('t',1,regex=True)"
   ]
  },
  {
   "cell_type": "code",
   "execution_count": 34,
   "metadata": {},
   "outputs": [],
   "source": [
    "# 針對部分特徵 做 nan 補 0\n",
    "# 移除特殊字元並轉成float格式\n",
    "\n",
    "listings['security_deposit'] = listings['security_deposit'].fillna(value=0)\n",
    "listings['security_deposit'] = listings['security_deposit'].replace( '[\\$,)]','', regex=True ).astype(float)\n",
    "listings['cleaning_fee'] = listings['cleaning_fee'].fillna(value=0)\n",
    "listings['cleaning_fee'] = listings['cleaning_fee'].replace( '[\\$,)]','', regex=True ).astype(float)"
   ]
  },
  {
   "cell_type": "code",
   "execution_count": 35,
   "metadata": {},
   "outputs": [
    {
     "name": "stdout",
     "output_type": "stream",
     "text": [
      "bathrooms\n",
      "bedrooms\n",
      "review_scores_rating\n"
     ]
    }
   ],
   "source": [
    "listings_new = listings[['host_is_superhost', 'host_identity_verified', 'host_has_profile_pic','is_location_exact', \n",
    "                         'requires_license', 'instant_bookable', 'require_guest_profile_picture', \n",
    "                         'require_guest_phone_verification', 'security_deposit', 'cleaning_fee', \n",
    "                         'host_listings_count', 'host_total_listings_count', 'minimum_nights',\n",
    "                     'bathrooms', 'bedrooms', 'guests_included', 'number_of_reviews','review_scores_rating', 'price']]\n",
    "\n",
    "for col in listings_new.columns[listings_new.isnull().any()]:\n",
    "    print(col)\n",
    "    \n",
    "for col in listings_new.columns[listings_new.isnull().any()]:\n",
    "    listings_new[col] = listings_new[col].fillna(listings_new[col].median())\n",
    "    \n",
    "# 做 one-hot encoding    \n",
    "for cat_feature in ['zipcode', 'property_type', 'room_type', 'cancellation_policy', 'neighbourhood_cleansed', 'bed_type']:\n",
    "    listings_new = pd.concat([listings_new, pd.get_dummies(listings[cat_feature])], axis=1)"
   ]
  },
  {
   "cell_type": "code",
   "execution_count": 36,
   "metadata": {
    "scrolled": true
   },
   "outputs": [],
   "source": [
    "#listings_new = pd.concat([listings_new, df_amenities], axis=1, join='inner')"
   ]
  },
  {
   "cell_type": "code",
   "execution_count": 37,
   "metadata": {},
   "outputs": [
    {
     "data": {
      "text/html": [
       "<div>\n",
       "<style scoped>\n",
       "    .dataframe tbody tr th:only-of-type {\n",
       "        vertical-align: middle;\n",
       "    }\n",
       "\n",
       "    .dataframe tbody tr th {\n",
       "        vertical-align: top;\n",
       "    }\n",
       "\n",
       "    .dataframe thead th {\n",
       "        text-align: right;\n",
       "    }\n",
       "</style>\n",
       "<table border=\"1\" class=\"dataframe\">\n",
       "  <thead>\n",
       "    <tr style=\"text-align: right;\">\n",
       "      <th></th>\n",
       "      <th>host_is_superhost</th>\n",
       "      <th>host_identity_verified</th>\n",
       "      <th>host_has_profile_pic</th>\n",
       "      <th>is_location_exact</th>\n",
       "      <th>requires_license</th>\n",
       "      <th>instant_bookable</th>\n",
       "      <th>require_guest_profile_picture</th>\n",
       "      <th>require_guest_phone_verification</th>\n",
       "      <th>security_deposit</th>\n",
       "      <th>cleaning_fee</th>\n",
       "      <th>...</th>\n",
       "      <th>大同區</th>\n",
       "      <th>大安區</th>\n",
       "      <th>文山區</th>\n",
       "      <th>松山區</th>\n",
       "      <th>萬華區</th>\n",
       "      <th>Airbed</th>\n",
       "      <th>Couch</th>\n",
       "      <th>Futon</th>\n",
       "      <th>Pull-out Sofa</th>\n",
       "      <th>Real Bed</th>\n",
       "    </tr>\n",
       "  </thead>\n",
       "  <tbody>\n",
       "    <tr>\n",
       "      <th>0</th>\n",
       "      <td>1</td>\n",
       "      <td>0</td>\n",
       "      <td>1</td>\n",
       "      <td>1</td>\n",
       "      <td>0</td>\n",
       "      <td>0</td>\n",
       "      <td>0</td>\n",
       "      <td>0</td>\n",
       "      <td>8988.0</td>\n",
       "      <td>0.0</td>\n",
       "      <td>...</td>\n",
       "      <td>0</td>\n",
       "      <td>1</td>\n",
       "      <td>0</td>\n",
       "      <td>0</td>\n",
       "      <td>0</td>\n",
       "      <td>0</td>\n",
       "      <td>0</td>\n",
       "      <td>0</td>\n",
       "      <td>0</td>\n",
       "      <td>1</td>\n",
       "    </tr>\n",
       "    <tr>\n",
       "      <th>1</th>\n",
       "      <td>1</td>\n",
       "      <td>0</td>\n",
       "      <td>1</td>\n",
       "      <td>0</td>\n",
       "      <td>0</td>\n",
       "      <td>0</td>\n",
       "      <td>0</td>\n",
       "      <td>0</td>\n",
       "      <td>8978.0</td>\n",
       "      <td>0.0</td>\n",
       "      <td>...</td>\n",
       "      <td>0</td>\n",
       "      <td>1</td>\n",
       "      <td>0</td>\n",
       "      <td>0</td>\n",
       "      <td>0</td>\n",
       "      <td>0</td>\n",
       "      <td>0</td>\n",
       "      <td>0</td>\n",
       "      <td>0</td>\n",
       "      <td>1</td>\n",
       "    </tr>\n",
       "    <tr>\n",
       "      <th>2</th>\n",
       "      <td>0</td>\n",
       "      <td>1</td>\n",
       "      <td>1</td>\n",
       "      <td>1</td>\n",
       "      <td>0</td>\n",
       "      <td>0</td>\n",
       "      <td>0</td>\n",
       "      <td>0</td>\n",
       "      <td>2993.0</td>\n",
       "      <td>359.0</td>\n",
       "      <td>...</td>\n",
       "      <td>0</td>\n",
       "      <td>0</td>\n",
       "      <td>0</td>\n",
       "      <td>1</td>\n",
       "      <td>0</td>\n",
       "      <td>0</td>\n",
       "      <td>0</td>\n",
       "      <td>0</td>\n",
       "      <td>0</td>\n",
       "      <td>1</td>\n",
       "    </tr>\n",
       "    <tr>\n",
       "      <th>3</th>\n",
       "      <td>0</td>\n",
       "      <td>1</td>\n",
       "      <td>1</td>\n",
       "      <td>1</td>\n",
       "      <td>0</td>\n",
       "      <td>0</td>\n",
       "      <td>0</td>\n",
       "      <td>0</td>\n",
       "      <td>2996.0</td>\n",
       "      <td>360.0</td>\n",
       "      <td>...</td>\n",
       "      <td>0</td>\n",
       "      <td>0</td>\n",
       "      <td>0</td>\n",
       "      <td>1</td>\n",
       "      <td>0</td>\n",
       "      <td>0</td>\n",
       "      <td>0</td>\n",
       "      <td>0</td>\n",
       "      <td>0</td>\n",
       "      <td>1</td>\n",
       "    </tr>\n",
       "    <tr>\n",
       "      <th>4</th>\n",
       "      <td>0</td>\n",
       "      <td>0</td>\n",
       "      <td>1</td>\n",
       "      <td>0</td>\n",
       "      <td>0</td>\n",
       "      <td>1</td>\n",
       "      <td>0</td>\n",
       "      <td>0</td>\n",
       "      <td>0.0</td>\n",
       "      <td>0.0</td>\n",
       "      <td>...</td>\n",
       "      <td>0</td>\n",
       "      <td>0</td>\n",
       "      <td>0</td>\n",
       "      <td>0</td>\n",
       "      <td>0</td>\n",
       "      <td>0</td>\n",
       "      <td>0</td>\n",
       "      <td>0</td>\n",
       "      <td>0</td>\n",
       "      <td>1</td>\n",
       "    </tr>\n",
       "  </tbody>\n",
       "</table>\n",
       "<p>5 rows × 173 columns</p>\n",
       "</div>"
      ],
      "text/plain": [
       "   host_is_superhost  host_identity_verified  host_has_profile_pic  \\\n",
       "0                  1                       0                     1   \n",
       "1                  1                       0                     1   \n",
       "2                  0                       1                     1   \n",
       "3                  0                       1                     1   \n",
       "4                  0                       0                     1   \n",
       "\n",
       "   is_location_exact  requires_license  instant_bookable  \\\n",
       "0                  1                 0                 0   \n",
       "1                  0                 0                 0   \n",
       "2                  1                 0                 0   \n",
       "3                  1                 0                 0   \n",
       "4                  0                 0                 1   \n",
       "\n",
       "   require_guest_profile_picture  require_guest_phone_verification  \\\n",
       "0                              0                                 0   \n",
       "1                              0                                 0   \n",
       "2                              0                                 0   \n",
       "3                              0                                 0   \n",
       "4                              0                                 0   \n",
       "\n",
       "   security_deposit  cleaning_fee  ...  大同區  大安區  文山區  松山區  萬華區  Airbed  \\\n",
       "0            8988.0           0.0  ...    0    1    0    0    0       0   \n",
       "1            8978.0           0.0  ...    0    1    0    0    0       0   \n",
       "2            2993.0         359.0  ...    0    0    0    1    0       0   \n",
       "3            2996.0         360.0  ...    0    0    0    1    0       0   \n",
       "4               0.0           0.0  ...    0    0    0    0    0       0   \n",
       "\n",
       "   Couch  Futon  Pull-out Sofa  Real Bed  \n",
       "0      0      0              0         1  \n",
       "1      0      0              0         1  \n",
       "2      0      0              0         1  \n",
       "3      0      0              0         1  \n",
       "4      0      0              0         1  \n",
       "\n",
       "[5 rows x 173 columns]"
      ]
     },
     "execution_count": 37,
     "metadata": {},
     "output_type": "execute_result"
    }
   ],
   "source": [
    "listings_new.head()"
   ]
  },
  {
   "cell_type": "markdown",
   "metadata": {},
   "source": [
    "### random forest 建模\n",
    "- 我們要預測房屋價格"
   ]
  },
  {
   "cell_type": "code",
   "execution_count": 38,
   "metadata": {},
   "outputs": [],
   "source": [
    "from sklearn.model_selection import train_test_split\n",
    "from sklearn.metrics import mean_squared_error\n",
    "from sklearn.metrics import r2_score # 越接近1 代表訓練結果越好\n",
    "from sklearn.ensemble import RandomForestRegressor\n",
    "from sklearn.metrics import accuracy_score"
   ]
  },
  {
   "cell_type": "code",
   "execution_count": 39,
   "metadata": {},
   "outputs": [],
   "source": [
    "# y 代表 要預測的值\n",
    "y = listings_new['price']\n",
    "\n",
    "# x 代表 除了要預測的值\n",
    "x = listings_new.drop('price',axis=1)\n",
    "\n",
    "X_train, X_test, y_train, y_test = train_test_split(x, y, test_size=0.25, random_state=1)"
   ]
  },
  {
   "cell_type": "code",
   "execution_count": 40,
   "metadata": {},
   "outputs": [],
   "source": [
    "# 將資料做標準化\n",
    "from sklearn.preprocessing import StandardScaler ,MinMaxScaler\n",
    "\n",
    "#std = StandardScaler()\n",
    "std = MinMaxScaler()\n",
    "X_fit = std.fit(X_train)\n",
    "X_train = X_fit.transform(X_train)\n",
    "X_test = X_fit.transform(X_test)"
   ]
  },
  {
   "cell_type": "code",
   "execution_count": 41,
   "metadata": {},
   "outputs": [
    {
     "data": {
      "text/plain": [
       "843.5160156969362"
      ]
     },
     "execution_count": 41,
     "metadata": {},
     "output_type": "execute_result"
    }
   ],
   "source": [
    "rf = RandomForestRegressor(n_estimators=1000,n_jobs=-1)\n",
    "rf.fit(X_train, y_train)\n",
    "y_train_predict = rf.predict(X_train)\n",
    "y_test_predict = rf.predict(X_test)\n",
    "rmse_rf = mean_squared_error(y_test,y_test_predict)**(1/2)\n",
    "\n",
    "rmse_rf"
   ]
  },
  {
   "cell_type": "code",
   "execution_count": 43,
   "metadata": {},
   "outputs": [
    {
     "data": {
      "text/plain": [
       "0.9458961180161198"
      ]
     },
     "execution_count": 43,
     "metadata": {},
     "output_type": "execute_result"
    }
   ],
   "source": [
    "r2_score(y_train,y_train_predict)"
   ]
  },
  {
   "cell_type": "code",
   "execution_count": 44,
   "metadata": {},
   "outputs": [
    {
     "data": {
      "text/plain": [
       "0.6722394902745603"
      ]
     },
     "execution_count": 44,
     "metadata": {},
     "output_type": "execute_result"
    }
   ],
   "source": [
    "r2_score(y_test,y_test_predict)"
   ]
  },
  {
   "cell_type": "markdown",
   "metadata": {},
   "source": [
    "### LightGBM 建模\n",
    "- 我們要預測房屋價格"
   ]
  },
  {
   "cell_type": "code",
   "execution_count": 45,
   "metadata": {},
   "outputs": [],
   "source": [
    "from lightgbm import LGBMRegressor"
   ]
  },
  {
   "cell_type": "code",
   "execution_count": 46,
   "metadata": {},
   "outputs": [],
   "source": [
    "fit_params ={'early_stopping_rounds':10,\n",
    "            'eval_metric':'rmse',\n",
    "            'eval_set':[(X_test,y_test)],\n",
    "            'eval_names':['valid'],\n",
    "            'verbose':100}\n",
    "\n",
    "import lightgbm as lgb\n",
    "model_lgb = lgb.LGBMRegressor(objective='regression',num_leaves=5,\n",
    "                              learning_rate=0.05, n_estimators=720,\n",
    "                              max_bin = 55, bagging_fraction = 0.8,\n",
    "                              bagging_freq = 5, feature_fraction = 0.2319,\n",
    "                              feature_fraction_seed=9, bagging_seed=9,\n",
    "                              min_data_in_leaf =6, min_sum_hessian_in_leaf = 11)"
   ]
  },
  {
   "cell_type": "code",
   "execution_count": 47,
   "metadata": {},
   "outputs": [
    {
     "name": "stdout",
     "output_type": "stream",
     "text": [
      "[LightGBM] [Warning] feature_fraction is set=0.2319, colsample_bytree=1.0 will be ignored. Current value: feature_fraction=0.2319\n",
      "[LightGBM] [Warning] min_data_in_leaf is set=6, min_child_samples=20 will be ignored. Current value: min_data_in_leaf=6\n",
      "[LightGBM] [Warning] min_sum_hessian_in_leaf is set=11, min_child_weight=0.001 will be ignored. Current value: min_sum_hessian_in_leaf=11\n",
      "[LightGBM] [Warning] bagging_fraction is set=0.8, subsample=1.0 will be ignored. Current value: bagging_fraction=0.8\n",
      "[LightGBM] [Warning] bagging_freq is set=5, subsample_freq=0 will be ignored. Current value: bagging_freq=5\n",
      "Training until validation scores don't improve for 10 rounds\n",
      "[100]\tvalid's rmse: 1029.19\tvalid's l2: 1.05924e+06\n",
      "[200]\tvalid's rmse: 980.221\tvalid's l2: 960833\n",
      "[300]\tvalid's rmse: 955.951\tvalid's l2: 913842\n",
      "[400]\tvalid's rmse: 944.293\tvalid's l2: 891689\n",
      "[500]\tvalid's rmse: 933.743\tvalid's l2: 871877\n",
      "[600]\tvalid's rmse: 925.921\tvalid's l2: 857329\n",
      "[700]\tvalid's rmse: 917.964\tvalid's l2: 842659\n",
      "Early stopping, best iteration is:\n",
      "[700]\tvalid's rmse: 917.964\tvalid's l2: 842659\n"
     ]
    },
    {
     "data": {
      "text/plain": [
       "LGBMRegressor(bagging_fraction=0.8, bagging_freq=5, bagging_seed=9,\n",
       "              feature_fraction=0.2319, feature_fraction_seed=9,\n",
       "              learning_rate=0.05, max_bin=55, min_data_in_leaf=6,\n",
       "              min_sum_hessian_in_leaf=11, n_estimators=720, num_leaves=5,\n",
       "              objective='regression')"
      ]
     },
     "execution_count": 47,
     "metadata": {},
     "output_type": "execute_result"
    }
   ],
   "source": [
    "lgb = LGBMRegressor(max_depth=20,learning_rate =0.01,n_estimators=1000)\n",
    "\n",
    "model_lgb.fit(X_train,y_train,**fit_params)"
   ]
  },
  {
   "cell_type": "code",
   "execution_count": 48,
   "metadata": {},
   "outputs": [],
   "source": [
    "y_pred_test = model_lgb.predict(X_test)\n",
    "y_pred_train = model_lgb.predict(X_train)"
   ]
  },
  {
   "cell_type": "code",
   "execution_count": 49,
   "metadata": {},
   "outputs": [
    {
     "data": {
      "text/plain": [
       "0.6118303272037828"
      ]
     },
     "execution_count": 49,
     "metadata": {},
     "output_type": "execute_result"
    }
   ],
   "source": [
    "r2_score(y_test,y_pred_test)"
   ]
  },
  {
   "cell_type": "code",
   "execution_count": 50,
   "metadata": {
    "tags": []
   },
   "outputs": [
    {
     "data": {
      "text/plain": [
       "0.6286108366607046"
      ]
     },
     "execution_count": 50,
     "metadata": {},
     "output_type": "execute_result"
    }
   ],
   "source": [
    "r2_score(y_train,y_pred_train)"
   ]
  },
  {
   "cell_type": "code",
   "execution_count": null,
   "metadata": {},
   "outputs": [],
   "source": []
  }
 ],
 "metadata": {
  "kernelspec": {
   "display_name": "Python 3",
   "language": "python",
   "name": "python3"
  },
  "language_info": {
   "codemirror_mode": {
    "name": "ipython",
    "version": 3
   },
   "file_extension": ".py",
   "mimetype": "text/x-python",
   "name": "python",
   "nbconvert_exporter": "python",
   "pygments_lexer": "ipython3",
   "version": "3.8.3"
  }
 },
 "nbformat": 4,
 "nbformat_minor": 4
}
