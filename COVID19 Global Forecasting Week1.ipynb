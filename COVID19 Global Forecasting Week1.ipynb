{
 "cells": [
  {
   "cell_type": "markdown",
   "id": "89c68203-1ea2-4e01-ad2b-40ffd6c61235",
   "metadata": {},
   "source": [
    "## COVID19 Global Forecasting (Week 1) Covid-19 全球確診死亡人數預測 第一週\n",
    "- 在這一挑戰中，您將預測世界各地各個地區未來日期的確認Covid19案例的累積數量，以及導致死亡的數量。\n",
    "\n",
    "### 評估\n",
    "- 兩個 column，分別為確診人數 (ConfirmedCases)、死亡人數 (Fatalities)\n",
    "- 評估指標 RMSLE"
   ]
  },
  {
   "cell_type": "code",
   "execution_count": 94,
   "id": "3df87b8b-64e9-4668-9263-9e717fdea887",
   "metadata": {},
   "outputs": [],
   "source": [
    "# 事前準備\n",
    "import os\n",
    "import numpy as np          # 資料處理分析工具\n",
    "import pandas as pd         # 資料處理分析工具\n",
    "from scipy import stats     # 統計函式庫\n",
    "from scipy.stats import norm, skew\n",
    "from collections import Counter # counter是字典，用來計數，key是要計數的item，value儲存的是個數\n",
    "from sklearn.preprocessing import LabelEncoder # 用於特徵提取, 將數值資料轉為離散\n",
    "from sklearn.preprocessing import MinMaxScaler\n",
    "\n",
    "# 匯入必要的函式庫\n",
    "from sklearn.linear_model import ElasticNet, Lasso,  BayesianRidge, LassoLarsIC\n",
    "from sklearn.ensemble import RandomForestRegressor,  GradientBoostingRegressor\n",
    "from sklearn.kernel_ridge import KernelRidge\n",
    "from sklearn.pipeline import make_pipeline\n",
    "from sklearn.preprocessing import RobustScaler\n",
    "from sklearn.base import BaseEstimator, TransformerMixin, RegressorMixin, clone\n",
    "from sklearn.model_selection import KFold, cross_val_score, train_test_split\n",
    "from sklearn.metrics import mean_squared_error\n",
    "import xgboost as xgb\n",
    "import lightgbm as lgb\n",
    "\n",
    "import datetime as dt\n",
    "import string\n",
    "from google.cloud import bigquery\n",
    "\n",
    "# 資料視覺化\n",
    "import matplotlib.pyplot as plt\n",
    "from matplotlib import rcParams, pyplot as plt, style as style\n",
    "%matplotlib inline\n",
    "import seaborn as sns\n",
    "color = sns.color_palette() # 生成各種顏色\n",
    "sns.set_style('darkgrid') # 設置主題：darkgrid、whitegrid、dark、white、ticks\n",
    "# 設定展示欄位最大值\n",
    "pd.set_option('display.max_columns', 150)\n",
    "pd.set_option('display.max_rows', 150)\n",
    "\n",
    "# 忽略警告\n",
    "import warnings\n",
    "warnings.filterwarnings(\"ignore\")"
   ]
  },
  {
   "cell_type": "code",
   "execution_count": 95,
   "id": "31bc5a71-cc1b-4cc3-ac89-6887ff9ffb0b",
   "metadata": {},
   "outputs": [
    {
     "data": {
      "text/html": [
       "<div>\n",
       "<style scoped>\n",
       "    .dataframe tbody tr th:only-of-type {\n",
       "        vertical-align: middle;\n",
       "    }\n",
       "\n",
       "    .dataframe tbody tr th {\n",
       "        vertical-align: top;\n",
       "    }\n",
       "\n",
       "    .dataframe thead th {\n",
       "        text-align: right;\n",
       "    }\n",
       "</style>\n",
       "<table border=\"1\" class=\"dataframe\">\n",
       "  <thead>\n",
       "    <tr style=\"text-align: right;\">\n",
       "      <th></th>\n",
       "      <th>Id</th>\n",
       "      <th>Province/State</th>\n",
       "      <th>Country/Region</th>\n",
       "      <th>Lat</th>\n",
       "      <th>Long</th>\n",
       "      <th>Date</th>\n",
       "      <th>ConfirmedCases</th>\n",
       "      <th>Fatalities</th>\n",
       "    </tr>\n",
       "  </thead>\n",
       "  <tbody>\n",
       "    <tr>\n",
       "      <th>0</th>\n",
       "      <td>1</td>\n",
       "      <td>NaN</td>\n",
       "      <td>Afghanistan</td>\n",
       "      <td>33.0</td>\n",
       "      <td>65.0</td>\n",
       "      <td>2020-01-22</td>\n",
       "      <td>0.0</td>\n",
       "      <td>0.0</td>\n",
       "    </tr>\n",
       "    <tr>\n",
       "      <th>1</th>\n",
       "      <td>2</td>\n",
       "      <td>NaN</td>\n",
       "      <td>Afghanistan</td>\n",
       "      <td>33.0</td>\n",
       "      <td>65.0</td>\n",
       "      <td>2020-01-23</td>\n",
       "      <td>0.0</td>\n",
       "      <td>0.0</td>\n",
       "    </tr>\n",
       "    <tr>\n",
       "      <th>2</th>\n",
       "      <td>3</td>\n",
       "      <td>NaN</td>\n",
       "      <td>Afghanistan</td>\n",
       "      <td>33.0</td>\n",
       "      <td>65.0</td>\n",
       "      <td>2020-01-24</td>\n",
       "      <td>0.0</td>\n",
       "      <td>0.0</td>\n",
       "    </tr>\n",
       "    <tr>\n",
       "      <th>3</th>\n",
       "      <td>4</td>\n",
       "      <td>NaN</td>\n",
       "      <td>Afghanistan</td>\n",
       "      <td>33.0</td>\n",
       "      <td>65.0</td>\n",
       "      <td>2020-01-25</td>\n",
       "      <td>0.0</td>\n",
       "      <td>0.0</td>\n",
       "    </tr>\n",
       "    <tr>\n",
       "      <th>4</th>\n",
       "      <td>5</td>\n",
       "      <td>NaN</td>\n",
       "      <td>Afghanistan</td>\n",
       "      <td>33.0</td>\n",
       "      <td>65.0</td>\n",
       "      <td>2020-01-26</td>\n",
       "      <td>0.0</td>\n",
       "      <td>0.0</td>\n",
       "    </tr>\n",
       "  </tbody>\n",
       "</table>\n",
       "</div>"
      ],
      "text/plain": [
       "   Id Province/State Country/Region   Lat  Long        Date  ConfirmedCases  \\\n",
       "0   1            NaN    Afghanistan  33.0  65.0  2020-01-22             0.0   \n",
       "1   2            NaN    Afghanistan  33.0  65.0  2020-01-23             0.0   \n",
       "2   3            NaN    Afghanistan  33.0  65.0  2020-01-24             0.0   \n",
       "3   4            NaN    Afghanistan  33.0  65.0  2020-01-25             0.0   \n",
       "4   5            NaN    Afghanistan  33.0  65.0  2020-01-26             0.0   \n",
       "\n",
       "   Fatalities  \n",
       "0         0.0  \n",
       "1         0.0  \n",
       "2         0.0  \n",
       "3         0.0  \n",
       "4         0.0  "
      ]
     },
     "execution_count": 95,
     "metadata": {},
     "output_type": "execute_result"
    }
   ],
   "source": [
    "# 載入訓練資料集\n",
    "train = pd.read_csv(\"./data/covid19-global-forecasting-week-1/train.csv\")\n",
    "train.head(5)"
   ]
  },
  {
   "cell_type": "code",
   "execution_count": 96,
   "id": "4c79867a-a64d-456a-8321-8234fe1e8532",
   "metadata": {},
   "outputs": [
    {
     "data": {
      "text/html": [
       "<div>\n",
       "<style scoped>\n",
       "    .dataframe tbody tr th:only-of-type {\n",
       "        vertical-align: middle;\n",
       "    }\n",
       "\n",
       "    .dataframe tbody tr th {\n",
       "        vertical-align: top;\n",
       "    }\n",
       "\n",
       "    .dataframe thead th {\n",
       "        text-align: right;\n",
       "    }\n",
       "</style>\n",
       "<table border=\"1\" class=\"dataframe\">\n",
       "  <thead>\n",
       "    <tr style=\"text-align: right;\">\n",
       "      <th></th>\n",
       "      <th>ForecastId</th>\n",
       "      <th>Province/State</th>\n",
       "      <th>Country/Region</th>\n",
       "      <th>Lat</th>\n",
       "      <th>Long</th>\n",
       "      <th>Date</th>\n",
       "    </tr>\n",
       "  </thead>\n",
       "  <tbody>\n",
       "    <tr>\n",
       "      <th>0</th>\n",
       "      <td>1</td>\n",
       "      <td>NaN</td>\n",
       "      <td>Afghanistan</td>\n",
       "      <td>33.0</td>\n",
       "      <td>65.0</td>\n",
       "      <td>2020-03-12</td>\n",
       "    </tr>\n",
       "    <tr>\n",
       "      <th>1</th>\n",
       "      <td>2</td>\n",
       "      <td>NaN</td>\n",
       "      <td>Afghanistan</td>\n",
       "      <td>33.0</td>\n",
       "      <td>65.0</td>\n",
       "      <td>2020-03-13</td>\n",
       "    </tr>\n",
       "    <tr>\n",
       "      <th>2</th>\n",
       "      <td>3</td>\n",
       "      <td>NaN</td>\n",
       "      <td>Afghanistan</td>\n",
       "      <td>33.0</td>\n",
       "      <td>65.0</td>\n",
       "      <td>2020-03-14</td>\n",
       "    </tr>\n",
       "    <tr>\n",
       "      <th>3</th>\n",
       "      <td>4</td>\n",
       "      <td>NaN</td>\n",
       "      <td>Afghanistan</td>\n",
       "      <td>33.0</td>\n",
       "      <td>65.0</td>\n",
       "      <td>2020-03-15</td>\n",
       "    </tr>\n",
       "    <tr>\n",
       "      <th>4</th>\n",
       "      <td>5</td>\n",
       "      <td>NaN</td>\n",
       "      <td>Afghanistan</td>\n",
       "      <td>33.0</td>\n",
       "      <td>65.0</td>\n",
       "      <td>2020-03-16</td>\n",
       "    </tr>\n",
       "  </tbody>\n",
       "</table>\n",
       "</div>"
      ],
      "text/plain": [
       "   ForecastId Province/State Country/Region   Lat  Long        Date\n",
       "0           1            NaN    Afghanistan  33.0  65.0  2020-03-12\n",
       "1           2            NaN    Afghanistan  33.0  65.0  2020-03-13\n",
       "2           3            NaN    Afghanistan  33.0  65.0  2020-03-14\n",
       "3           4            NaN    Afghanistan  33.0  65.0  2020-03-15\n",
       "4           5            NaN    Afghanistan  33.0  65.0  2020-03-16"
      ]
     },
     "execution_count": 96,
     "metadata": {},
     "output_type": "execute_result"
    }
   ],
   "source": [
    "# 載入測試資料集\n",
    "test = pd.read_csv('./data/covid19-global-forecasting-week-1/test.csv')\n",
    "test.head(5)"
   ]
  },
  {
   "cell_type": "code",
   "execution_count": 97,
   "id": "17b7e13a-7a3d-431b-9936-6a5d256ca682",
   "metadata": {},
   "outputs": [
    {
     "name": "stdout",
     "output_type": "stream",
     "text": [
      "train dtypes:\n",
      "Id                  int64\n",
      "Province/State     object\n",
      "Country/Region     object\n",
      "Lat               float64\n",
      "Long              float64\n",
      "Date               object\n",
      "ConfirmedCases    float64\n",
      "Fatalities        float64\n",
      "dtype: object\n",
      "\n",
      "train shape: (17892, 8)\n",
      "\n",
      "test shape: (12212, 6)\n"
     ]
    }
   ],
   "source": [
    "# 確認資料特徵類型\n",
    "print(f'train dtypes:\\n{train.dtypes}')\n",
    "print(f'\\ntrain shape: {train.shape}')\n",
    "print(f'\\ntest shape: {test.shape}')"
   ]
  },
  {
   "cell_type": "markdown",
   "id": "3f255d0a-4751-4393-b05c-5fc4c714398b",
   "metadata": {},
   "source": [
    "### [ 分析目標 ]\n",
    "- 透過地點、日期 來判斷確診與死亡人數\n",
    "- 日期區間為 2020-01-22 至 2020-03-24\n",
    "- 了解個國家確診占比後發現,中國、義大利、美國，這三國確診人數初期最多\n",
    "- 中國從 2020-02-11 後人數暴增，其餘國家大約 2020-03-11 後人數暴增\n",
    "- 義大利的死亡人數從 2020-03-11 後暴增，2020-03-17 超越中國成為死亡人數最多的國家"
   ]
  },
  {
   "cell_type": "code",
   "execution_count": 98,
   "id": "d91ee5b3-16bd-44b2-b4c2-c2b52dc42901",
   "metadata": {},
   "outputs": [
    {
     "data": {
      "text/html": [
       "<div>\n",
       "<style scoped>\n",
       "    .dataframe tbody tr th:only-of-type {\n",
       "        vertical-align: middle;\n",
       "    }\n",
       "\n",
       "    .dataframe tbody tr th {\n",
       "        vertical-align: top;\n",
       "    }\n",
       "\n",
       "    .dataframe thead th {\n",
       "        text-align: right;\n",
       "    }\n",
       "</style>\n",
       "<table border=\"1\" class=\"dataframe\">\n",
       "  <thead>\n",
       "    <tr style=\"text-align: right;\">\n",
       "      <th></th>\n",
       "      <th></th>\n",
       "      <th>ConfirmedCases</th>\n",
       "      <th>Fatalities</th>\n",
       "    </tr>\n",
       "    <tr>\n",
       "      <th>Country/Region</th>\n",
       "      <th>Province/State</th>\n",
       "      <th></th>\n",
       "      <th></th>\n",
       "    </tr>\n",
       "  </thead>\n",
       "  <tbody>\n",
       "    <tr>\n",
       "      <th>Italy</th>\n",
       "      <th>N/A</th>\n",
       "      <td>69176.0</td>\n",
       "      <td>6820.0</td>\n",
       "    </tr>\n",
       "    <tr>\n",
       "      <th>China</th>\n",
       "      <th>Hubei</th>\n",
       "      <td>67801.0</td>\n",
       "      <td>3160.0</td>\n",
       "    </tr>\n",
       "    <tr>\n",
       "      <th>Spain</th>\n",
       "      <th>N/A</th>\n",
       "      <td>39885.0</td>\n",
       "      <td>2808.0</td>\n",
       "    </tr>\n",
       "    <tr>\n",
       "      <th>Germany</th>\n",
       "      <th>N/A</th>\n",
       "      <td>32986.0</td>\n",
       "      <td>157.0</td>\n",
       "    </tr>\n",
       "    <tr>\n",
       "      <th>US</th>\n",
       "      <th>New York</th>\n",
       "      <td>25681.0</td>\n",
       "      <td>210.0</td>\n",
       "    </tr>\n",
       "    <tr>\n",
       "      <th>...</th>\n",
       "      <th>...</th>\n",
       "      <td>...</td>\n",
       "      <td>...</td>\n",
       "    </tr>\n",
       "    <tr>\n",
       "      <th>Puerto Rico</th>\n",
       "      <th>N/A</th>\n",
       "      <td>0.0</td>\n",
       "      <td>0.0</td>\n",
       "    </tr>\n",
       "    <tr>\n",
       "      <th rowspan=\"4\" valign=\"top\">China</th>\n",
       "      <th>Yunnan</th>\n",
       "      <td>0.0</td>\n",
       "      <td>0.0</td>\n",
       "    </tr>\n",
       "    <tr>\n",
       "      <th>Heilongjiang</th>\n",
       "      <td>0.0</td>\n",
       "      <td>0.0</td>\n",
       "    </tr>\n",
       "    <tr>\n",
       "      <th>Henan</th>\n",
       "      <td>0.0</td>\n",
       "      <td>0.0</td>\n",
       "    </tr>\n",
       "    <tr>\n",
       "      <th>Shanghai</th>\n",
       "      <td>0.0</td>\n",
       "      <td>0.0</td>\n",
       "    </tr>\n",
       "  </tbody>\n",
       "</table>\n",
       "<p>284 rows × 2 columns</p>\n",
       "</div>"
      ],
      "text/plain": [
       "                               ConfirmedCases  Fatalities\n",
       "Country/Region Province/State                            \n",
       "Italy          N/A                    69176.0      6820.0\n",
       "China          Hubei                  67801.0      3160.0\n",
       "Spain          N/A                    39885.0      2808.0\n",
       "Germany        N/A                    32986.0       157.0\n",
       "US             New York               25681.0       210.0\n",
       "...                                       ...         ...\n",
       "Puerto Rico    N/A                        0.0         0.0\n",
       "China          Yunnan                     0.0         0.0\n",
       "               Heilongjiang               0.0         0.0\n",
       "               Henan                      0.0         0.0\n",
       "               Shanghai                   0.0         0.0\n",
       "\n",
       "[284 rows x 2 columns]"
      ]
     },
     "execution_count": 98,
     "metadata": {},
     "output_type": "execute_result"
    }
   ],
   "source": [
    "#觀察各國確診死亡情形\n",
    "country_province = train.fillna('N/A').groupby(['Country/Region','Province/State'])['ConfirmedCases', 'Fatalities'].max().sort_values(by='ConfirmedCases', ascending=False)\n",
    "country_province"
   ]
  },
  {
   "cell_type": "code",
   "execution_count": 99,
   "id": "f7e15e53-c825-4e78-9812-ddb3dbaf4953",
   "metadata": {},
   "outputs": [
    {
     "data": {
      "image/png": "[encoded data removed]",
      "text/plain": [
       "<Figure size 1080x720 with 1 Axes>"
      ]
     },
     "metadata": {},
     "output_type": "display_data"
    }
   ],
   "source": [
    "# Aggregate records by countries\n",
    "countries = country_province.groupby('Country/Region')['ConfirmedCases','Fatalities'].sum().sort_values(by= 'ConfirmedCases',ascending=False)\n",
    "\n",
    "countries['country'] = countries.index\n",
    "\n",
    "# Unpivot the dataframe from wide to long format\n",
    "df_long = pd.melt(countries, id_vars=['country'] , value_vars=['ConfirmedCases','Fatalities'])\n",
    "\n",
    "#Top countries by confirmed cases\n",
    "top_countries = countries.index[:10]\n",
    "\n",
    "df_top_countries = df_long[df_long['country'].isin(top_countries)]\n",
    "\n",
    "style.use('ggplot')\n",
    "rcParams['figure.figsize'] = 15,10\n",
    "ax = sns.barplot(x = 'country', hue=\"variable\", y=\"value\", data=df_top_countries)"
   ]
  },
  {
   "cell_type": "code",
   "execution_count": 100,
   "id": "2d1a782d-dc5e-4c9e-b879-11d2c8f37312",
   "metadata": {},
   "outputs": [
    {
     "data": {
      "image/png": "[encoded data removed]",
      "text/plain": [
       "<Figure size 1440x720 with 1 Axes>"
      ]
     },
     "metadata": {},
     "output_type": "display_data"
    }
   ],
   "source": [
    "# 時間序列分析 (確診人數)\n",
    "train.Date.min(), train.Date.max()\n",
    "# Remove columns we do not need\n",
    "cols_ConfirmedCases = ['Lat', 'Long', 'Fatalities']\n",
    "times_series_ConfirmedCases = train.drop(cols_ConfirmedCases, axis=1).fillna('N/A')\n",
    "\n",
    "# Aggregate cases by date and country\n",
    "times_series_ConfirmedCases = times_series_ConfirmedCases.groupby(['Date','Province/State','Country/Region'])['ConfirmedCases'].max()\\\n",
    "                    .groupby(['Date','Country/Region']).sum()\\\n",
    "                    .reset_index()\n",
    "\n",
    "# Indexing with Time Series Data\n",
    "times_series_ConfirmedCases = times_series_ConfirmedCases.set_index('Date')\n",
    "\n",
    "times_series_ConfirmedCases_df = times_series_ConfirmedCases.groupby('Date')['ConfirmedCases'].sum().reset_index()\n",
    "times_series_ConfirmedCases_df = times_series_ConfirmedCases_df.set_index('Date')\n",
    "\n",
    "# 查看確診人數與日期的關係\n",
    "times_series_ConfirmedCases_df.plot(figsize=(20, 10), title=\"The Cumulative total of Confirmed cases\")\n",
    "plt.legend(loc=2, prop={'size': 20})\n",
    "plt.show()"
   ]
  },
  {
   "cell_type": "code",
   "execution_count": null,
   "id": "6a8816cc-e3f3-4f34-acfa-5826b19acf8d",
   "metadata": {},
   "outputs": [
    {
     "data": {
      "text/plain": [
       "<matplotlib.legend.Legend at 0x1c8210180a0>"
      ]
     },
     "execution_count": 101,
     "metadata": {},
     "output_type": "execute_result"
    }
   ],
   "source": [
    "# 各國 確診人數與日期的關係\n",
    "top_countries_ConfirmedCases = times_series_ConfirmedCases[times_series_ConfirmedCases['Country/Region'].isin(top_countries)]\n",
    "plt.xticks(rotation=45)\n",
    "\n",
    "ax = sns.lineplot(x=top_countries_ConfirmedCases.index, y=\"ConfirmedCases\", hue=\"Country/Region\", data=top_countries_ConfirmedCases).set_title('Cumulative line')\n",
    "plt.legend(loc=2, prop={'size': 12})"
   ]
  },
  {
   "cell_type": "code",
   "execution_count": null,
   "id": "7c5387df-c208-426c-a2ee-226b6583b8bc",
   "metadata": {},
   "outputs": [],
   "source": [
    "# 時間序列分析 (確診人數)\n",
    "train.Date.min(), train.Date.max()\n",
    "# Remove columns we do not need\n",
    "cols_Fatalities = ['Lat', 'Long', 'ConfirmedCases']\n",
    "times_series_Fatalities = train.drop(cols_Fatalities, axis=1).fillna('N/A')\n",
    "\n",
    "# Aggregate cases by date and country\n",
    "times_series_Fatalities = times_series_Fatalities.groupby(['Date','Province/State','Country/Region'])['Fatalities'].max()\\\n",
    "                    .groupby(['Date','Country/Region']).sum()\\\n",
    "                    .reset_index()\n",
    "\n",
    "# Indexing with Time Series Data\n",
    "times_series_Fatalities = times_series_Fatalities.set_index('Date')\n",
    "\n",
    "times_series_Fatalities_df = times_series_Fatalities.groupby('Date')['Fatalities'].sum().reset_index()\n",
    "times_series_Fatalities_df = times_series_Fatalities_df.set_index('Date')\n",
    "\n",
    "# 查看確診人數與日期的關係\n",
    "times_series_Fatalities_df.plot(figsize=(20, 10), title=\"The Cumulative total of Fatalities cases\")\n",
    "plt.legend(loc=2, prop={'size': 20})\n",
    "plt.show()"
   ]
  },
  {
   "cell_type": "code",
   "execution_count": null,
   "id": "decf134a-bf95-463a-a796-b6aad77a7d56",
   "metadata": {},
   "outputs": [],
   "source": [
    "# 各國 確診人數與日期的關係\n",
    "top_countries_Fatalities = times_series_Fatalities[times_series_Fatalities['Country/Region'].isin(top_countries)]\n",
    "plt.xticks(rotation=45)\n",
    "\n",
    "ax = sns.lineplot(x=top_countries_Fatalities.index, y=\"Fatalities\", hue=\"Country/Region\", data=top_countries_Fatalities).set_title('Cumulative line')\n",
    "plt.legend(loc=2, prop={'size': 12})"
   ]
  },
  {
   "cell_type": "markdown",
   "id": "39193192-9b85-4b49-8418-5ee3f95f0544",
   "metadata": {},
   "source": [
    "#### 1. 特徵建構\n",
    "- 新增城市數 特徵\n",
    "- 填補缺失值\n",
    "- 轉換時間特徵"
   ]
  },
  {
   "cell_type": "code",
   "execution_count": null,
   "id": "c371bbb0-dd86-4356-bb38-eaa22c3562e9",
   "metadata": {},
   "outputs": [],
   "source": [
    "arr1 = train['Country/Region'].unique()\n",
    "arr2 = arr2 = [i for i in range(163)]\n",
    "\n",
    "country_dict = dict(zip(arr1, arr2))\n",
    "data = [train, test]\n",
    "for dataset in data:\n",
    "    dataset['Country_int'] = dataset['Country/Region'].map(country_dict).astype(int)\n",
    "    \n",
    "for j in train['Country/Region'].unique():\n",
    "    l = train[(train['Country/Region'] == j)]\n",
    "    len_state = len(l['Province/State'].unique())\n",
    "    \n",
    "    if len_state != 1:\n",
    "        arr_state1 = l['Province/State'].unique()\n",
    "        arr_state2 = [i for i in range(1,len_state+1)]\n",
    "        state_dict = dict(zip(arr_state1, arr_state2))\n",
    "\n",
    "        for dataset in data:\n",
    "            dataset['Province/State'] = dataset['Province/State'].map(state_dict)\n",
    "            \n",
    "train.head()            "
   ]
  },
  {
   "cell_type": "code",
   "execution_count": null,
   "id": "f68d6d66-2a68-4d7f-9f71-60913fe9b688",
   "metadata": {},
   "outputs": [],
   "source": [
    "for dataset in data:\n",
    "    dataset['Province/State'].fillna(0, inplace=True)\n",
    "    \n",
    "test.head()    "
   ]
  },
  {
   "cell_type": "code",
   "execution_count": null,
   "id": "d83f2126-36de-4ba5-8f75-96a2c0298e34",
   "metadata": {},
   "outputs": [],
   "source": [
    "# 相關性分析\n",
    "train_corr = train.drop(['Id'],axis=1)\n",
    "corr = train_corr.corr()\n",
    "plt.figure(figsize=(11,7))\n",
    "sns.heatmap(corr, annot=True)"
   ]
  },
  {
   "cell_type": "code",
   "execution_count": null,
   "id": "d64d5601-c105-4a60-af77-1e216fdf86cd",
   "metadata": {},
   "outputs": [],
   "source": [
    "# 將時間特徵轉為數字 , 因為日期一天一天往後 可以當作大小判斷\n",
    "train[\"Date\"] = train[\"Date\"].apply(lambda x: x.replace(\"-\",\"\"))\n",
    "train[\"Date\"]  = train[\"Date\"].astype(int)\n",
    "train.head()"
   ]
  },
  {
   "cell_type": "code",
   "execution_count": null,
   "id": "19f5e782-eabc-4844-b5e4-8349ed2eba41",
   "metadata": {},
   "outputs": [],
   "source": [
    "# 拿掉 NaN 值\n",
    "train = train.drop(['Province/State'],axis=1)\n",
    "train = train.dropna()\n",
    "train.isnull().sum()"
   ]
  },
  {
   "cell_type": "code",
   "execution_count": null,
   "id": "9196461b-d0e4-488b-bfb1-8f56632d93b8",
   "metadata": {},
   "outputs": [],
   "source": [
    "# 測試集 同步\n",
    "test[\"Date\"] = test[\"Date\"].apply(lambda x: x.replace(\"-\",\"\"))\n",
    "test[\"Date\"]  = test[\"Date\"].astype(int)\n",
    "test = test.dropna()\n",
    "test.isnull().sum()"
   ]
  },
  {
   "cell_type": "code",
   "execution_count": null,
   "id": "d3b020f2-f695-45d4-bbe2-0bbce68e33bb",
   "metadata": {},
   "outputs": [],
   "source": [
    "# 針對地區做 one-hot encode\n",
    "# train = pd.concat([train, pd.get_dummies(train[\"Country/Region\"])], axis=1)\n",
    "# test = pd.concat([test, pd.get_dummies(test[\"Country/Region\"])], axis=1)"
   ]
  },
  {
   "cell_type": "markdown",
   "id": "d319b090-b8f1-4d46-a8a8-bd817da5454d",
   "metadata": {},
   "source": [
    "## 建立模型\n",
    "- 建立需要用到的模型, 再利用交叉驗證判斷好壞\n",
    "- 先預測確診人數，再預測死亡人數"
   ]
  },
  {
   "cell_type": "code",
   "execution_count": null,
   "id": "a291e8bb-2c97-437c-a6f7-bd42b895375c",
   "metadata": {},
   "outputs": [],
   "source": [
    "x = train.drop(['Id','Country/Region','ConfirmedCases','Fatalities'],axis=1)\n",
    "\n",
    "y1 = train[['ConfirmedCases']]\n",
    "y2 = train[['Fatalities']]\n",
    "\n",
    "x_test = test.drop(['ForecastId','Province/State','Country/Region'],axis=1)\n",
    "\n",
    "print(f'x shape: {x.shape}')\n",
    "print(f'y1 shape: {y1.shape}')\n",
    "print(f'y2 shape: {y2.shape}')\n",
    "print(f'test shape: {x_test.shape}')"
   ]
  },
  {
   "cell_type": "code",
   "execution_count": null,
   "id": "8a81c838-fcc9-41e7-8617-b8b85f7d5441",
   "metadata": {},
   "outputs": [],
   "source": [
    "Tree_model = RandomForestRegressor(n_estimators=300, min_samples_split=9, min_samples_leaf=10, \n",
    "                           max_features='sqrt', max_depth=8, bootstrap=False)\n"
   ]
  },
  {
   "cell_type": "code",
   "execution_count": null,
   "id": "e3e27a53-17d5-4c8f-84a6-80c7c85d04e3",
   "metadata": {},
   "outputs": [],
   "source": [
    "print(f'x shape: {x.shape}')\n",
    "print(f'y1 shape: {y1.shape}')\n",
    "print(f'y2 shape: {y2.shape}')\n",
    "print(f'test shape: {x_test.shape}')"
   ]
  },
  {
   "cell_type": "code",
   "execution_count": null,
   "id": "c7731b5b-1f5c-46c0-ba76-80b3d18da5b9",
   "metadata": {},
   "outputs": [],
   "source": [
    "# 訓練 確診人數\n",
    "Tree_model.fit(x,y1)\n",
    "pred1 = Tree_model.predict(x_test)\n",
    "pred1 = pd.DataFrame(pred1)"
   ]
  },
  {
   "cell_type": "code",
   "execution_count": null,
   "id": "2923ae64-1a61-47cf-a5cb-ff6003f18ee9",
   "metadata": {},
   "outputs": [],
   "source": [
    "# 訓練 死亡人數\n",
    "Tree_model.fit(x,y2)\n",
    "pred2 = Tree_model.predict(x_test)\n",
    "pred2 = pd.DataFrame(pred2)"
   ]
  },
  {
   "cell_type": "code",
   "execution_count": null,
   "id": "a02f8587-5d68-4e2c-bdca-b02eabe3deea",
   "metadata": {},
   "outputs": [],
   "source": [
    "sub = pd.read_csv('./data/covid19-global-forecasting-week-1/submission.csv')\n",
    "submission = pd.DataFrame()\n",
    "submission['ForecastId'] = sub['ForecastId']\n",
    "submission['ConfirmedCases'] = lgb_pred \n",
    "submission['Fatalities'] = lgb_pred2 \n",
    "submission[\"ConfirmedCases\"] = submission[\"ConfirmedCases\"].astype(int)\n",
    "submission[\"Fatalities\"] = submission[\"Fatalities\"].astype(int)\n",
    "\n",
    "submission.to_csv('./data/covid19-global-forecasting-week-1/submission_blend.csv', index = False)"
   ]
  },
  {
   "cell_type": "code",
   "execution_count": null,
   "id": "19a04056-1bff-4c6a-a2c1-aa797c7080de",
   "metadata": {},
   "outputs": [],
   "source": []
  }
 ],
 "metadata": {
  "kernelspec": {
   "display_name": "Python 3",
   "language": "python",
   "name": "python3"
  },
  "language_info": {
   "codemirror_mode": {
    "name": "ipython",
    "version": 3
   },
   "file_extension": ".py",
   "mimetype": "text/x-python",
   "name": "python",
   "nbconvert_exporter": "python",
   "pygments_lexer": "ipython3",
   "version": "3.8.3"
  }
 },
 "nbformat": 4,
 "nbformat_minor": 5
}
