{
 "cells": [
  {
   "source": [
    "import pandas as pd                 # 數據分析\n",
    "import numpy as np                  # 科學計算\n",
    "from pandas import Series,DataFrame\n",
    "\n",
    "data_train = pd.read_csv(\"data/titanic/train.csv\")\n",
    "\n",
    "data_train"
   ],
   "cell_type": "code",
   "metadata": {},
   "execution_count": null,
   "outputs": [
    {
     "output_type": "error",
     "ename": "Error",
     "evalue": "Command failed: C:/ProgramData/Anaconda3/Scripts/activate && conda activate base && echo 'e8b39361-0157-4923-80e1-22d70d46dee6' && python c:\\Users\\ALIN\\.vscode\\extensions\\ms-python.python-2020.12.424452561\\pythonFiles\\pyvsc-run-isolated.py c:/Users/ALIN/.vscode/extensions/ms-python.python-2020.12.424452561/pythonFiles/printEnvVariables.py\n'C:/ProgramData/Anaconda3/Scripts/activate' ���O�����Υ~���R�O�B�i���檺�{���Χ妸�ɡC\r\n",
     "traceback": [
      "Error: Command failed: C:/ProgramData/Anaconda3/Scripts/activate && conda activate base && echo 'e8b39361-0157-4923-80e1-22d70d46dee6' && python c:\\Users\\ALIN\\.vscode\\extensions\\ms-python.python-2020.12.424452561\\pythonFiles\\pyvsc-run-isolated.py c:/Users/ALIN/.vscode/extensions/ms-python.python-2020.12.424452561/pythonFiles/printEnvVariables.py",
      "'C:/ProgramData/Anaconda3/Scripts/activate' ���O�����Υ~���R�O�B�i���檺�{���Χ妸�ɡC",
      "at ChildProcess.exithandler (child_process.js:304:12)",
      "at ChildProcess.emit (events.js:223:5)",
      "at maybeClose (internal/child_process.js:1021:16)",
      "at Process.ChildProcess._handle.onexit (internal/child_process.js:283:5)"
     ]
    }
   ]
  },
  {
   "cell_type": "code",
   "execution_count": null,
   "metadata": {},
   "outputs": [],
   "source": []
  }
 ],
 "metadata": {
  "kernelspec": {
   "display_name": "Python 3",
   "language": "python",
   "name": "python3"
  },
  "language_info": {
   "codemirror_mode": {
    "name": "ipython",
    "version": 3
   },
   "file_extension": ".py",
   "mimetype": "text/x-python",
   "name": "python",
   "nbconvert_exporter": "python",
   "pygments_lexer": "ipython3",
   "version": "3.7.6-final"
  }
 },
 "nbformat": 4,
 "nbformat_minor": 4
}